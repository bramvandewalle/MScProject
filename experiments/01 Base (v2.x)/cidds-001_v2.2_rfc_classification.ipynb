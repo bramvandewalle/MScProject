{
 "cells": [
  {
   "cell_type": "code",
   "execution_count": 1,
   "metadata": {},
   "outputs": [
    {
     "name": "stdout",
     "output_type": "stream",
     "text": [
      "C:\\Users\\bram_\\home\\msc\n"
     ]
    }
   ],
   "source": [
    "%cd ../.."
   ]
  },
  {
   "cell_type": "markdown",
   "metadata": {},
   "source": [
    "# Exclude almost all `bruteForce` attack types from `week1` training set and almost all `pingScan` attack types from `week2` training set\n",
    "We need to keep just a few entries of the attack type that we want to exclude because we need to give the model at least the chance to correctly predict the excluded attack type. Otherwise we may not make conclusions like \"the accuracy is lower because the model is not predicting the excluded attack type correctly\" since there will be no chance for the model to predict the excluded attack type. Therefore just a few entries are included."
   ]
  },
  {
   "cell_type": "markdown",
   "metadata": {},
   "source": [
    "# Imports"
   ]
  },
  {
   "cell_type": "code",
   "execution_count": 2,
   "metadata": {},
   "outputs": [],
   "source": [
    "import pandas as pd\n",
    "\n",
    "from sklearn.model_selection import train_test_split\n",
    "from sklearn.ensemble import RandomForestClassifier\n",
    "from sklearn.metrics import confusion_matrix\n",
    "\n",
    "from timeit import default_timer as timer\n",
    "import utils.cidds_001 as utils\n",
    "\n",
    "from utils.cidds_001 import columns_to_drop"
   ]
  },
  {
   "cell_type": "markdown",
   "metadata": {},
   "source": [
    "# Start global timer"
   ]
  },
  {
   "cell_type": "code",
   "execution_count": 3,
   "metadata": {},
   "outputs": [],
   "source": [
    "start_global = timer()"
   ]
  },
  {
   "cell_type": "markdown",
   "metadata": {},
   "source": [
    "# Load and suffle datasets"
   ]
  },
  {
   "cell_type": "code",
   "execution_count": 4,
   "metadata": {},
   "outputs": [],
   "source": [
    "# load and shuffle week1\n",
    "week1 = pd.read_feather('saved_dfs/cidds-001/traffic/OpenStack/CIDDS-001-internal-week1-cleaned.feather')\n",
    "week1_shuffled = week1.sample(frac=1, random_state=13).reset_index(drop=True)\n",
    "\n",
    "# load and shuffle week2\n",
    "week2 = pd.read_feather('saved_dfs/cidds-001/traffic/OpenStack/CIDDS-001-internal-week2-cleaned.feather')\n",
    "week2_shuffled = week2.sample(frac=1, random_state=13).reset_index(drop=True)"
   ]
  },
  {
   "cell_type": "code",
   "execution_count": 5,
   "metadata": {},
   "outputs": [
    {
     "data": {
      "text/html": [
       "<div>\n",
       "<style scoped>\n",
       "    .dataframe tbody tr th:only-of-type {\n",
       "        vertical-align: middle;\n",
       "    }\n",
       "\n",
       "    .dataframe tbody tr th {\n",
       "        vertical-align: top;\n",
       "    }\n",
       "\n",
       "    .dataframe thead th {\n",
       "        text-align: right;\n",
       "    }\n",
       "</style>\n",
       "<table border=\"1\" class=\"dataframe\">\n",
       "  <thead>\n",
       "    <tr style=\"text-align: right;\">\n",
       "      <th></th>\n",
       "      <th>count</th>\n",
       "    </tr>\n",
       "    <tr>\n",
       "      <th>attack_type</th>\n",
       "      <th></th>\n",
       "    </tr>\n",
       "  </thead>\n",
       "  <tbody>\n",
       "    <tr>\n",
       "      <th>---</th>\n",
       "      <td>7010897</td>\n",
       "    </tr>\n",
       "    <tr>\n",
       "      <th>bruteForce</th>\n",
       "      <td>1626</td>\n",
       "    </tr>\n",
       "    <tr>\n",
       "      <th>dos</th>\n",
       "      <td>1252127</td>\n",
       "    </tr>\n",
       "    <tr>\n",
       "      <th>pingScan</th>\n",
       "      <td>3359</td>\n",
       "    </tr>\n",
       "    <tr>\n",
       "      <th>portScan</th>\n",
       "      <td>183511</td>\n",
       "    </tr>\n",
       "  </tbody>\n",
       "</table>\n",
       "</div>"
      ],
      "text/plain": [
       "               count\n",
       "attack_type         \n",
       "---          7010897\n",
       "bruteForce      1626\n",
       "dos          1252127\n",
       "pingScan        3359\n",
       "portScan      183511"
      ]
     },
     "execution_count": 5,
     "metadata": {},
     "output_type": "execute_result"
    }
   ],
   "source": [
    "count_week1_df = pd.DataFrame(week1_shuffled.groupby(by='attack_type').size(), columns=['count'])\n",
    "count_week1_df"
   ]
  },
  {
   "cell_type": "code",
   "execution_count": 6,
   "metadata": {},
   "outputs": [
    {
     "data": {
      "text/html": [
       "<div>\n",
       "<style scoped>\n",
       "    .dataframe tbody tr th:only-of-type {\n",
       "        vertical-align: middle;\n",
       "    }\n",
       "\n",
       "    .dataframe tbody tr th {\n",
       "        vertical-align: top;\n",
       "    }\n",
       "\n",
       "    .dataframe thead th {\n",
       "        text-align: right;\n",
       "    }\n",
       "</style>\n",
       "<table border=\"1\" class=\"dataframe\">\n",
       "  <thead>\n",
       "    <tr style=\"text-align: right;\">\n",
       "      <th></th>\n",
       "      <th>count</th>\n",
       "    </tr>\n",
       "    <tr>\n",
       "      <th>attack_type</th>\n",
       "      <th></th>\n",
       "    </tr>\n",
       "  </thead>\n",
       "  <tbody>\n",
       "    <tr>\n",
       "      <th>---</th>\n",
       "      <td>8515329</td>\n",
       "    </tr>\n",
       "    <tr>\n",
       "      <th>bruteForce</th>\n",
       "      <td>3366</td>\n",
       "    </tr>\n",
       "    <tr>\n",
       "      <th>dos</th>\n",
       "      <td>1706900</td>\n",
       "    </tr>\n",
       "    <tr>\n",
       "      <th>pingScan</th>\n",
       "      <td>2731</td>\n",
       "    </tr>\n",
       "    <tr>\n",
       "      <th>portScan</th>\n",
       "      <td>82407</td>\n",
       "    </tr>\n",
       "  </tbody>\n",
       "</table>\n",
       "</div>"
      ],
      "text/plain": [
       "               count\n",
       "attack_type         \n",
       "---          8515329\n",
       "bruteForce      3366\n",
       "dos          1706900\n",
       "pingScan        2731\n",
       "portScan       82407"
      ]
     },
     "execution_count": 6,
     "metadata": {},
     "output_type": "execute_result"
    }
   ],
   "source": [
    "count_week2_df = pd.DataFrame(week2_shuffled.groupby(by='attack_type').size(), columns=['count'])\n",
    "count_week2_df"
   ]
  },
  {
   "cell_type": "markdown",
   "metadata": {},
   "source": [
    "# Remove all flows of `bruteForce` and `pingScan` of respectively week1 and week2"
   ]
  },
  {
   "cell_type": "code",
   "execution_count": 7,
   "metadata": {},
   "outputs": [],
   "source": [
    "# Remove all of the flows of bruteForce from week1 dataset\n",
    "week1_excl = week1_shuffled.where(week1_shuffled['attack_type'] != 'bruteForce').dropna().reset_index(drop=True)\n",
    "# week1_one_brute = week1_shuffled.where(week1_shuffled['attack_type'] == 'bruteForce').dropna().head(n=1).reset_index(drop=True)\n",
    "# week1_excl = week1_excl.append(week1_one_brute)\n",
    "\n",
    "# Remove all of the flows of pingScan from week2 dataset\n",
    "week2_excl = week2_shuffled.where(week2_shuffled['attack_type'] != 'pingScan').dropna().reset_index(drop=True)\n",
    "# week2_one_ping = week2_shuffled.where(week2_shuffled['attack_type'] == 'pingScan').dropna().head(n=1).reset_index(drop=True)\n",
    "# week2_excl = week2_excl.append(week2_one_ping)"
   ]
  },
  {
   "cell_type": "code",
   "execution_count": 8,
   "metadata": {},
   "outputs": [
    {
     "data": {
      "text/html": [
       "<div>\n",
       "<style scoped>\n",
       "    .dataframe tbody tr th:only-of-type {\n",
       "        vertical-align: middle;\n",
       "    }\n",
       "\n",
       "    .dataframe tbody tr th {\n",
       "        vertical-align: top;\n",
       "    }\n",
       "\n",
       "    .dataframe thead th {\n",
       "        text-align: right;\n",
       "    }\n",
       "</style>\n",
       "<table border=\"1\" class=\"dataframe\">\n",
       "  <thead>\n",
       "    <tr style=\"text-align: right;\">\n",
       "      <th></th>\n",
       "      <th>attack_type</th>\n",
       "      <th>count</th>\n",
       "    </tr>\n",
       "  </thead>\n",
       "  <tbody>\n",
       "    <tr>\n",
       "      <th>0</th>\n",
       "      <td>---</td>\n",
       "      <td>7010897</td>\n",
       "    </tr>\n",
       "    <tr>\n",
       "      <th>1</th>\n",
       "      <td>dos</td>\n",
       "      <td>1252127</td>\n",
       "    </tr>\n",
       "    <tr>\n",
       "      <th>2</th>\n",
       "      <td>pingScan</td>\n",
       "      <td>3359</td>\n",
       "    </tr>\n",
       "    <tr>\n",
       "      <th>3</th>\n",
       "      <td>portScan</td>\n",
       "      <td>183511</td>\n",
       "    </tr>\n",
       "  </tbody>\n",
       "</table>\n",
       "</div>"
      ],
      "text/plain": [
       "  attack_type    count\n",
       "0         ---  7010897\n",
       "1         dos  1252127\n",
       "2    pingScan     3359\n",
       "3    portScan   183511"
      ]
     },
     "execution_count": 8,
     "metadata": {},
     "output_type": "execute_result"
    }
   ],
   "source": [
    "pd.DataFrame(week1_excl.groupby(by='attack_type').size(), columns=['count']).reset_index()"
   ]
  },
  {
   "cell_type": "code",
   "execution_count": 9,
   "metadata": {},
   "outputs": [
    {
     "data": {
      "text/html": [
       "<div>\n",
       "<style scoped>\n",
       "    .dataframe tbody tr th:only-of-type {\n",
       "        vertical-align: middle;\n",
       "    }\n",
       "\n",
       "    .dataframe tbody tr th {\n",
       "        vertical-align: top;\n",
       "    }\n",
       "\n",
       "    .dataframe thead th {\n",
       "        text-align: right;\n",
       "    }\n",
       "</style>\n",
       "<table border=\"1\" class=\"dataframe\">\n",
       "  <thead>\n",
       "    <tr style=\"text-align: right;\">\n",
       "      <th></th>\n",
       "      <th>attack_type</th>\n",
       "      <th>count</th>\n",
       "    </tr>\n",
       "  </thead>\n",
       "  <tbody>\n",
       "    <tr>\n",
       "      <th>0</th>\n",
       "      <td>---</td>\n",
       "      <td>8515329</td>\n",
       "    </tr>\n",
       "    <tr>\n",
       "      <th>1</th>\n",
       "      <td>bruteForce</td>\n",
       "      <td>3366</td>\n",
       "    </tr>\n",
       "    <tr>\n",
       "      <th>2</th>\n",
       "      <td>dos</td>\n",
       "      <td>1706900</td>\n",
       "    </tr>\n",
       "    <tr>\n",
       "      <th>3</th>\n",
       "      <td>portScan</td>\n",
       "      <td>82407</td>\n",
       "    </tr>\n",
       "  </tbody>\n",
       "</table>\n",
       "</div>"
      ],
      "text/plain": [
       "  attack_type    count\n",
       "0         ---  8515329\n",
       "1  bruteForce     3366\n",
       "2         dos  1706900\n",
       "3    portScan    82407"
      ]
     },
     "execution_count": 9,
     "metadata": {},
     "output_type": "execute_result"
    }
   ],
   "source": [
    "pd.DataFrame(week2_excl.groupby(by='attack_type').size(), columns=['count']).reset_index()"
   ]
  },
  {
   "cell_type": "markdown",
   "metadata": {},
   "source": [
    "# Create balanced datasets (ignoring the  entries of the excluded attack type)"
   ]
  },
  {
   "cell_type": "code",
   "execution_count": 10,
   "metadata": {},
   "outputs": [],
   "source": [
    "# extract a balanced dataset of the remaining attack types (ignoring the few entries of the excluded attack type)\n",
    "week1_excl_balanced = utils.get_balanced_cidds(week1_excl)\n",
    "week2_excl_balanced = utils.get_balanced_cidds(week2_excl)\n",
    "\n",
    "# drop columns that are of no use for classification\n",
    "week1_excl_balanced.drop(columns=columns_to_drop, inplace=True)\n",
    "week2_excl_balanced.drop(columns=columns_to_drop, inplace=True)"
   ]
  },
  {
   "cell_type": "markdown",
   "metadata": {},
   "source": [
    "### Confirm having created a balanced dataset"
   ]
  },
  {
   "cell_type": "code",
   "execution_count": 11,
   "metadata": {},
   "outputs": [
    {
     "data": {
      "text/html": [
       "<div>\n",
       "<style scoped>\n",
       "    .dataframe tbody tr th:only-of-type {\n",
       "        vertical-align: middle;\n",
       "    }\n",
       "\n",
       "    .dataframe tbody tr th {\n",
       "        vertical-align: top;\n",
       "    }\n",
       "\n",
       "    .dataframe thead th {\n",
       "        text-align: right;\n",
       "    }\n",
       "</style>\n",
       "<table border=\"1\" class=\"dataframe\">\n",
       "  <thead>\n",
       "    <tr style=\"text-align: right;\">\n",
       "      <th></th>\n",
       "      <th>attack_type</th>\n",
       "      <th>count</th>\n",
       "    </tr>\n",
       "  </thead>\n",
       "  <tbody>\n",
       "    <tr>\n",
       "      <th>0</th>\n",
       "      <td>---</td>\n",
       "      <td>3359</td>\n",
       "    </tr>\n",
       "    <tr>\n",
       "      <th>1</th>\n",
       "      <td>dos</td>\n",
       "      <td>3359</td>\n",
       "    </tr>\n",
       "    <tr>\n",
       "      <th>2</th>\n",
       "      <td>pingScan</td>\n",
       "      <td>3359</td>\n",
       "    </tr>\n",
       "    <tr>\n",
       "      <th>3</th>\n",
       "      <td>portScan</td>\n",
       "      <td>3359</td>\n",
       "    </tr>\n",
       "  </tbody>\n",
       "</table>\n",
       "</div>"
      ],
      "text/plain": [
       "  attack_type  count\n",
       "0         ---   3359\n",
       "1         dos   3359\n",
       "2    pingScan   3359\n",
       "3    portScan   3359"
      ]
     },
     "execution_count": 11,
     "metadata": {},
     "output_type": "execute_result"
    }
   ],
   "source": [
    "pd.DataFrame(week1_excl_balanced.groupby(by='attack_type').size(), columns=['count']).reset_index()"
   ]
  },
  {
   "cell_type": "code",
   "execution_count": 12,
   "metadata": {},
   "outputs": [
    {
     "data": {
      "text/html": [
       "<div>\n",
       "<style scoped>\n",
       "    .dataframe tbody tr th:only-of-type {\n",
       "        vertical-align: middle;\n",
       "    }\n",
       "\n",
       "    .dataframe tbody tr th {\n",
       "        vertical-align: top;\n",
       "    }\n",
       "\n",
       "    .dataframe thead th {\n",
       "        text-align: right;\n",
       "    }\n",
       "</style>\n",
       "<table border=\"1\" class=\"dataframe\">\n",
       "  <thead>\n",
       "    <tr style=\"text-align: right;\">\n",
       "      <th></th>\n",
       "      <th>attack_type</th>\n",
       "      <th>count</th>\n",
       "    </tr>\n",
       "  </thead>\n",
       "  <tbody>\n",
       "    <tr>\n",
       "      <th>0</th>\n",
       "      <td>---</td>\n",
       "      <td>3366</td>\n",
       "    </tr>\n",
       "    <tr>\n",
       "      <th>1</th>\n",
       "      <td>bruteForce</td>\n",
       "      <td>3366</td>\n",
       "    </tr>\n",
       "    <tr>\n",
       "      <th>2</th>\n",
       "      <td>dos</td>\n",
       "      <td>3366</td>\n",
       "    </tr>\n",
       "    <tr>\n",
       "      <th>3</th>\n",
       "      <td>portScan</td>\n",
       "      <td>3366</td>\n",
       "    </tr>\n",
       "  </tbody>\n",
       "</table>\n",
       "</div>"
      ],
      "text/plain": [
       "  attack_type  count\n",
       "0         ---   3366\n",
       "1  bruteForce   3366\n",
       "2         dos   3366\n",
       "3    portScan   3366"
      ]
     },
     "execution_count": 12,
     "metadata": {},
     "output_type": "execute_result"
    }
   ],
   "source": [
    "pd.DataFrame(week2_excl_balanced.groupby(by='attack_type').size(), columns=['count']).reset_index()"
   ]
  },
  {
   "cell_type": "markdown",
   "metadata": {},
   "source": [
    "# Split datasets in training and test sets"
   ]
  },
  {
   "cell_type": "code",
   "execution_count": 13,
   "metadata": {},
   "outputs": [],
   "source": [
    "# week 1\n",
    "x_week1_excl = week1_excl_balanced.drop(columns='attack_type')\n",
    "y_week1_excl = week1_excl_balanced['attack_type']\n",
    "x_train_week1_excl, x_test_week1_excl, y_train_week1_excl, y_test_week1_excl = train_test_split(\n",
    "    x_week1_excl, y_week1_excl, test_size=0.2, random_state=0)\n",
    "\n",
    "# week 2\n",
    "x_week2_excl = week2_excl_balanced.drop(columns='attack_type')\n",
    "y_week2_excl = week2_excl_balanced['attack_type']\n",
    "x_train_week2_excl, x_test_week2_excl, y_train_week2_excl, y_test_week2_excl = train_test_split(\n",
    "    x_week2_excl, y_week2_excl, test_size=0.2, random_state=0)"
   ]
  },
  {
   "cell_type": "markdown",
   "metadata": {},
   "source": [
    "# Random Forest Classification"
   ]
  },
  {
   "cell_type": "markdown",
   "metadata": {},
   "source": [
    "## Fit model of week 1 with data of week 1"
   ]
  },
  {
   "cell_type": "code",
   "execution_count": 14,
   "metadata": {},
   "outputs": [
    {
     "name": "stdout",
     "output_type": "stream",
     "text": [
      "Fitting RFC took 0.5335565000000031 seconds\n"
     ]
    }
   ],
   "source": [
    "rfc_week1_excl = RandomForestClassifier(max_depth=7)\n",
    "\n",
    "start = timer()\n",
    "rfc_week1_excl.fit(x_train_week1_excl, y_train_week1_excl)\n",
    "end = timer()\n",
    "\n",
    "print('Fitting RFC took {} seconds'.format(end - start))"
   ]
  },
  {
   "cell_type": "markdown",
   "metadata": {},
   "source": [
    "## Confusion matrix"
   ]
  },
  {
   "cell_type": "code",
   "execution_count": 15,
   "metadata": {},
   "outputs": [
    {
     "data": {
      "text/plain": [
       "array([[2717,    0,    0,    0],\n",
       "       [   1, 2704,    0,    0],\n",
       "       [  77,    0, 2576,    2],\n",
       "       [  49,    0,   65, 2557]], dtype=int64)"
      ]
     },
     "execution_count": 15,
     "metadata": {},
     "output_type": "execute_result"
    }
   ],
   "source": [
    "# Predict\n",
    "predicted_y = rfc_week1_excl.predict(x_train_week1_excl)\n",
    "\n",
    "# Create confusion matrix\n",
    "confusion_matrix(y_train_week1_excl, predicted_y)"
   ]
  },
  {
   "cell_type": "markdown",
   "metadata": {},
   "source": [
    "## Fit model of week 2 with data of week 2"
   ]
  },
  {
   "cell_type": "code",
   "execution_count": 16,
   "metadata": {},
   "outputs": [
    {
     "name": "stdout",
     "output_type": "stream",
     "text": [
      "Fitting RFC took 0.4861468000000002 seconds\n"
     ]
    }
   ],
   "source": [
    "rfc_week2_excl = RandomForestClassifier(max_depth=7)\n",
    "\n",
    "start = timer()\n",
    "rfc_week2_excl.fit(x_train_week2_excl, y_train_week2_excl)\n",
    "end = timer()\n",
    "\n",
    "print('Fitting RFC took {} seconds'.format(end - start))"
   ]
  },
  {
   "cell_type": "markdown",
   "metadata": {},
   "source": [
    "## Confusion matrix"
   ]
  },
  {
   "cell_type": "code",
   "execution_count": 17,
   "metadata": {},
   "outputs": [
    {
     "data": {
      "text/plain": [
       "array([[2681,   36,    1,    3],\n",
       "       [   3, 2693,    0,    0],\n",
       "       [   0,    0, 2667,    0],\n",
       "       [  44,   68,    0, 2575]], dtype=int64)"
      ]
     },
     "execution_count": 17,
     "metadata": {},
     "output_type": "execute_result"
    }
   ],
   "source": [
    "# Predict\n",
    "predicted_y = rfc_week2_excl.predict(x_train_week2_excl)\n",
    "\n",
    "# Create confusion matrix\n",
    "confusion_matrix(y_train_week2_excl, predicted_y)"
   ]
  },
  {
   "cell_type": "markdown",
   "metadata": {},
   "source": [
    "## Score model of week 1 with data of week 2"
   ]
  },
  {
   "cell_type": "code",
   "execution_count": 18,
   "metadata": {},
   "outputs": [
    {
     "data": {
      "text/html": [
       "<div>\n",
       "<style scoped>\n",
       "    .dataframe tbody tr th:only-of-type {\n",
       "        vertical-align: middle;\n",
       "    }\n",
       "\n",
       "    .dataframe tbody tr th {\n",
       "        vertical-align: top;\n",
       "    }\n",
       "\n",
       "    .dataframe thead th {\n",
       "        text-align: right;\n",
       "    }\n",
       "</style>\n",
       "<table border=\"1\" class=\"dataframe\">\n",
       "  <thead>\n",
       "    <tr style=\"text-align: right;\">\n",
       "      <th></th>\n",
       "      <th>attack_type</th>\n",
       "      <th>correct</th>\n",
       "      <th>total</th>\n",
       "      <th>acc</th>\n",
       "    </tr>\n",
       "  </thead>\n",
       "  <tbody>\n",
       "    <tr>\n",
       "      <th>0</th>\n",
       "      <td>---</td>\n",
       "      <td>8506966</td>\n",
       "      <td>8515329</td>\n",
       "      <td>0.999018</td>\n",
       "    </tr>\n",
       "    <tr>\n",
       "      <th>1</th>\n",
       "      <td>bruteForce</td>\n",
       "      <td>0</td>\n",
       "      <td>3366</td>\n",
       "      <td>0.000000</td>\n",
       "    </tr>\n",
       "    <tr>\n",
       "      <th>2</th>\n",
       "      <td>dos</td>\n",
       "      <td>1705550</td>\n",
       "      <td>1706900</td>\n",
       "      <td>0.999209</td>\n",
       "    </tr>\n",
       "    <tr>\n",
       "      <th>3</th>\n",
       "      <td>pingScan</td>\n",
       "      <td>2483</td>\n",
       "      <td>2731</td>\n",
       "      <td>0.909191</td>\n",
       "    </tr>\n",
       "    <tr>\n",
       "      <th>4</th>\n",
       "      <td>portScan</td>\n",
       "      <td>76334</td>\n",
       "      <td>82407</td>\n",
       "      <td>0.926305</td>\n",
       "    </tr>\n",
       "    <tr>\n",
       "      <th>5</th>\n",
       "      <td>total</td>\n",
       "      <td>10291333</td>\n",
       "      <td>10310733</td>\n",
       "      <td>0.998118</td>\n",
       "    </tr>\n",
       "  </tbody>\n",
       "</table>\n",
       "</div>"
      ],
      "text/plain": [
       "  attack_type   correct     total       acc\n",
       "0         ---   8506966   8515329  0.999018\n",
       "1  bruteForce         0      3366  0.000000\n",
       "2         dos   1705550   1706900  0.999209\n",
       "3    pingScan      2483      2731  0.909191\n",
       "4    portScan     76334     82407  0.926305\n",
       "5       total  10291333  10310733  0.998118"
      ]
     },
     "execution_count": 18,
     "metadata": {},
     "output_type": "execute_result"
    }
   ],
   "source": [
    "# extract rfc_week1_excl's input data (i.e. week2 data without the columns dropped for training and without 'attack_type')\n",
    "x_week2_all = week2.drop(columns=(columns_to_drop + ['attack_type']))\n",
    "\n",
    "# extract week2's labels\n",
    "y_week2_all = week2['attack_type']\n",
    "\n",
    "# predict the labels of week 2 by model of week 1\n",
    "predicted_y = rfc_week1_excl.predict(x_week2_all)\n",
    "\n",
    "# analyze the results\n",
    "results_df = utils.analyze_classification_results(predicted_y, y_week2_all).sort_values(by='attack_type').reset_index(drop=True)\n",
    "results_df"
   ]
  },
  {
   "cell_type": "code",
   "execution_count": 19,
   "metadata": {},
   "outputs": [
    {
     "data": {
      "text/html": [
       "<div>\n",
       "<style scoped>\n",
       "    .dataframe tbody tr th:only-of-type {\n",
       "        vertical-align: middle;\n",
       "    }\n",
       "\n",
       "    .dataframe tbody tr th {\n",
       "        vertical-align: top;\n",
       "    }\n",
       "\n",
       "    .dataframe thead th {\n",
       "        text-align: right;\n",
       "    }\n",
       "</style>\n",
       "<table border=\"1\" class=\"dataframe\">\n",
       "  <thead>\n",
       "    <tr style=\"text-align: right;\">\n",
       "      <th></th>\n",
       "      <th>---</th>\n",
       "      <th>bruteForce</th>\n",
       "      <th>dos</th>\n",
       "      <th>pingScan</th>\n",
       "      <th>portScan</th>\n",
       "    </tr>\n",
       "  </thead>\n",
       "  <tbody>\n",
       "    <tr>\n",
       "      <th>---</th>\n",
       "      <td>8506966</td>\n",
       "      <td>0</td>\n",
       "      <td>3015</td>\n",
       "      <td>771</td>\n",
       "      <td>4577</td>\n",
       "    </tr>\n",
       "    <tr>\n",
       "      <th>bruteForce</th>\n",
       "      <td>3155</td>\n",
       "      <td>0</td>\n",
       "      <td>0</td>\n",
       "      <td>0</td>\n",
       "      <td>211</td>\n",
       "    </tr>\n",
       "    <tr>\n",
       "      <th>dos</th>\n",
       "      <td>1349</td>\n",
       "      <td>0</td>\n",
       "      <td>1705550</td>\n",
       "      <td>0</td>\n",
       "      <td>1</td>\n",
       "    </tr>\n",
       "    <tr>\n",
       "      <th>pingScan</th>\n",
       "      <td>243</td>\n",
       "      <td>0</td>\n",
       "      <td>0</td>\n",
       "      <td>2483</td>\n",
       "      <td>5</td>\n",
       "    </tr>\n",
       "    <tr>\n",
       "      <th>portScan</th>\n",
       "      <td>3696</td>\n",
       "      <td>0</td>\n",
       "      <td>0</td>\n",
       "      <td>2377</td>\n",
       "      <td>76334</td>\n",
       "    </tr>\n",
       "  </tbody>\n",
       "</table>\n",
       "</div>"
      ],
      "text/plain": [
       "                ---  bruteForce      dos  pingScan  portScan\n",
       "---         8506966           0     3015       771      4577\n",
       "bruteForce     3155           0        0         0       211\n",
       "dos            1349           0  1705550         0         1\n",
       "pingScan        243           0        0      2483         5\n",
       "portScan       3696           0        0      2377     76334"
      ]
     },
     "execution_count": 19,
     "metadata": {},
     "output_type": "execute_result"
    }
   ],
   "source": [
    "# calculate confucion matrix\n",
    "conf_mat = confusion_matrix(y_week2_all, predicted_y)\n",
    "\n",
    "# put confusion matrix in DataFrame for nicer output in Jupyter\n",
    "conf_df = pd.DataFrame(conf_mat)\n",
    "\n",
    "# the order rows/columns of the confusion matrix depends on the order at which\n",
    "# each of the variables is first seen in y_week1_all. This order is the same\n",
    "# as the order of the indexes when groupby() was used on week1.\n",
    "conf_df.columns = count_week1_df.index.to_list()\n",
    "conf_df.index = count_week1_df.index.to_list()\n",
    "\n",
    "conf_df"
   ]
  },
  {
   "cell_type": "markdown",
   "metadata": {},
   "source": [
    "## Score model of week 2 with data of week 1"
   ]
  },
  {
   "cell_type": "code",
   "execution_count": 20,
   "metadata": {},
   "outputs": [
    {
     "data": {
      "text/html": [
       "<div>\n",
       "<style scoped>\n",
       "    .dataframe tbody tr th:only-of-type {\n",
       "        vertical-align: middle;\n",
       "    }\n",
       "\n",
       "    .dataframe tbody tr th {\n",
       "        vertical-align: top;\n",
       "    }\n",
       "\n",
       "    .dataframe thead th {\n",
       "        text-align: right;\n",
       "    }\n",
       "</style>\n",
       "<table border=\"1\" class=\"dataframe\">\n",
       "  <thead>\n",
       "    <tr style=\"text-align: right;\">\n",
       "      <th></th>\n",
       "      <th>attack_type</th>\n",
       "      <th>correct</th>\n",
       "      <th>total</th>\n",
       "      <th>acc</th>\n",
       "    </tr>\n",
       "  </thead>\n",
       "  <tbody>\n",
       "    <tr>\n",
       "      <th>0</th>\n",
       "      <td>---</td>\n",
       "      <td>6933654</td>\n",
       "      <td>7010897</td>\n",
       "      <td>0.988982</td>\n",
       "    </tr>\n",
       "    <tr>\n",
       "      <th>1</th>\n",
       "      <td>bruteForce</td>\n",
       "      <td>1565</td>\n",
       "      <td>1626</td>\n",
       "      <td>0.962485</td>\n",
       "    </tr>\n",
       "    <tr>\n",
       "      <th>2</th>\n",
       "      <td>dos</td>\n",
       "      <td>1251771</td>\n",
       "      <td>1252127</td>\n",
       "      <td>0.999716</td>\n",
       "    </tr>\n",
       "    <tr>\n",
       "      <th>3</th>\n",
       "      <td>pingScan</td>\n",
       "      <td>0</td>\n",
       "      <td>3359</td>\n",
       "      <td>0.000000</td>\n",
       "    </tr>\n",
       "    <tr>\n",
       "      <th>4</th>\n",
       "      <td>portScan</td>\n",
       "      <td>180245</td>\n",
       "      <td>183511</td>\n",
       "      <td>0.982203</td>\n",
       "    </tr>\n",
       "    <tr>\n",
       "      <th>5</th>\n",
       "      <td>total</td>\n",
       "      <td>8367235</td>\n",
       "      <td>8451520</td>\n",
       "      <td>0.990027</td>\n",
       "    </tr>\n",
       "  </tbody>\n",
       "</table>\n",
       "</div>"
      ],
      "text/plain": [
       "  attack_type  correct    total       acc\n",
       "0         ---  6933654  7010897  0.988982\n",
       "1  bruteForce     1565     1626  0.962485\n",
       "2         dos  1251771  1252127  0.999716\n",
       "3    pingScan        0     3359  0.000000\n",
       "4    portScan   180245   183511  0.982203\n",
       "5       total  8367235  8451520  0.990027"
      ]
     },
     "execution_count": 20,
     "metadata": {},
     "output_type": "execute_result"
    }
   ],
   "source": [
    "# extract rfc_week2_excl's input data (i.e. week1 data without the columns dropped for training and without 'attack_type')\n",
    "x_week1_all = week1.drop(columns=(columns_to_drop + ['attack_type']))\n",
    "\n",
    "# extract week1's labels\n",
    "y_week1_all = week1['attack_type']\n",
    "\n",
    "# predict the labels of week 2 by model of week 1\n",
    "predicted_y = rfc_week2_excl.predict(x_week1_all)\n",
    "\n",
    "# analyze the results\n",
    "results_df = utils.analyze_classification_results(predicted_y, y_week1_all).sort_values(by='attack_type').reset_index(drop=True)\n",
    "results_df"
   ]
  },
  {
   "cell_type": "code",
   "execution_count": 21,
   "metadata": {},
   "outputs": [
    {
     "data": {
      "text/html": [
       "<div>\n",
       "<style scoped>\n",
       "    .dataframe tbody tr th:only-of-type {\n",
       "        vertical-align: middle;\n",
       "    }\n",
       "\n",
       "    .dataframe tbody tr th {\n",
       "        vertical-align: top;\n",
       "    }\n",
       "\n",
       "    .dataframe thead th {\n",
       "        text-align: right;\n",
       "    }\n",
       "</style>\n",
       "<table border=\"1\" class=\"dataframe\">\n",
       "  <thead>\n",
       "    <tr style=\"text-align: right;\">\n",
       "      <th></th>\n",
       "      <th>---</th>\n",
       "      <th>bruteForce</th>\n",
       "      <th>dos</th>\n",
       "      <th>pingScan</th>\n",
       "      <th>portScan</th>\n",
       "    </tr>\n",
       "  </thead>\n",
       "  <tbody>\n",
       "    <tr>\n",
       "      <th>---</th>\n",
       "      <td>6933654</td>\n",
       "      <td>61464</td>\n",
       "      <td>6448</td>\n",
       "      <td>0</td>\n",
       "      <td>9331</td>\n",
       "    </tr>\n",
       "    <tr>\n",
       "      <th>bruteForce</th>\n",
       "      <td>61</td>\n",
       "      <td>1565</td>\n",
       "      <td>0</td>\n",
       "      <td>0</td>\n",
       "      <td>0</td>\n",
       "    </tr>\n",
       "    <tr>\n",
       "      <th>dos</th>\n",
       "      <td>344</td>\n",
       "      <td>9</td>\n",
       "      <td>1251771</td>\n",
       "      <td>0</td>\n",
       "      <td>3</td>\n",
       "    </tr>\n",
       "    <tr>\n",
       "      <th>pingScan</th>\n",
       "      <td>88</td>\n",
       "      <td>25</td>\n",
       "      <td>0</td>\n",
       "      <td>0</td>\n",
       "      <td>3246</td>\n",
       "    </tr>\n",
       "    <tr>\n",
       "      <th>portScan</th>\n",
       "      <td>2016</td>\n",
       "      <td>1250</td>\n",
       "      <td>0</td>\n",
       "      <td>0</td>\n",
       "      <td>180245</td>\n",
       "    </tr>\n",
       "  </tbody>\n",
       "</table>\n",
       "</div>"
      ],
      "text/plain": [
       "                ---  bruteForce      dos  pingScan  portScan\n",
       "---         6933654       61464     6448         0      9331\n",
       "bruteForce       61        1565        0         0         0\n",
       "dos             344           9  1251771         0         3\n",
       "pingScan         88          25        0         0      3246\n",
       "portScan       2016        1250        0         0    180245"
      ]
     },
     "execution_count": 21,
     "metadata": {},
     "output_type": "execute_result"
    }
   ],
   "source": [
    "# calculate confucion matrix\n",
    "conf_mat = confusion_matrix(y_week1_all, predicted_y)\n",
    "\n",
    "# put confusion matrix in DataFrame for nicer output in Jupyter\n",
    "conf_df = pd.DataFrame(conf_mat)\n",
    "\n",
    "# the order rows/columns of the confusion matrix depends on the order at which\n",
    "# each of the variables is first seen in y_week1_all. This order is the same\n",
    "# as the order of the indexes when groupby() was used on week1.\n",
    "conf_df.columns = count_week1_df.index.to_list()\n",
    "conf_df.index = count_week1_df.index.to_list()\n",
    "\n",
    "conf_df"
   ]
  },
  {
   "cell_type": "markdown",
   "metadata": {},
   "source": [
    "# End global timer"
   ]
  },
  {
   "cell_type": "code",
   "execution_count": 22,
   "metadata": {},
   "outputs": [
    {
     "name": "stdout",
     "output_type": "stream",
     "text": [
      "Running the complete notebook took 762.1824141 seconds.\n"
     ]
    }
   ],
   "source": [
    "end_global = timer()\n",
    "print(f'Running the complete notebook took {end_global - start_global} seconds.')"
   ]
  }
 ],
 "metadata": {
  "interpreter": {
   "hash": "47dc783c64eba16578308ded2496eecd3f77c9cbf1d7b090711421ceeb34a226"
  },
  "kernelspec": {
   "display_name": "Python 3",
   "language": "python",
   "name": "python3"
  },
  "language_info": {
   "codemirror_mode": {
    "name": "ipython",
    "version": 3
   },
   "file_extension": ".py",
   "mimetype": "text/x-python",
   "name": "python",
   "nbconvert_exporter": "python",
   "pygments_lexer": "ipython3",
   "version": "3.8.10"
  }
 },
 "nbformat": 4,
 "nbformat_minor": 2
}
