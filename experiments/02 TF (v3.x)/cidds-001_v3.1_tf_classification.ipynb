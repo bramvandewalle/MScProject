{
 "cells": [
  {
   "cell_type": "code",
   "execution_count": 1,
   "metadata": {},
   "outputs": [
    {
     "name": "stdout",
     "output_type": "stream",
     "text": [
      "C:\\Users\\bram_\\home\\msc\n"
     ]
    }
   ],
   "source": [
    "%cd ../.."
   ]
  },
  {
   "cell_type": "markdown",
   "metadata": {},
   "source": [
    "# Single flow - Multi Layer Perceptron classification of CIDDS-001 OpenStack data\n",
    "The implementation is based on the paper **Intelligent Cyber Attack Detetion and Classification for Network-Based Intrusion Detection Systems**. Although the accuracy results are very good (more than 99%), the confusion matrix shows a big drawback: the attack classes that are underrepresented in the training dataset, are not well classified. This is not suprising, but this is not mentioned in the paper itself."
   ]
  },
  {
   "cell_type": "code",
   "execution_count": 2,
   "metadata": {},
   "outputs": [
    {
     "name": "stdout",
     "output_type": "stream",
     "text": [
      "2.2.0\n"
     ]
    }
   ],
   "source": [
    "# TensorFlow and tf.keras\n",
    "import tensorflow as tf\n",
    "\n",
    "# Helper libraries\n",
    "import pandas as pd\n",
    "import numpy as np\n",
    "from utils import cidds_001 as utils\n",
    "from datetime import datetime\n",
    "\n",
    "print(tf.__version__)"
   ]
  },
  {
   "cell_type": "markdown",
   "metadata": {},
   "source": [
    "## Load datasets"
   ]
  },
  {
   "cell_type": "code",
   "execution_count": 3,
   "metadata": {},
   "outputs": [],
   "source": [
    "week1 = utils.load_internal_week1()\n",
    "week2 = utils.load_internal_week2()"
   ]
  },
  {
   "cell_type": "markdown",
   "metadata": {},
   "source": [
    "## Preprocess datasets\n",
    "* make sure that the type of column `date_first_seen` is a datetime\n",
    "* only use flows between `2017-03-17 14:18:05` and `2017-03-20 17:42:17` as stated in the paper\n",
    "* split the features and the labels and encode the labels with one hot encoding"
   ]
  },
  {
   "cell_type": "code",
   "execution_count": 4,
   "metadata": {},
   "outputs": [],
   "source": [
    "week1['date_first_seen'] = pd.to_datetime(week1['date_first_seen'])\n",
    "week2['date_first_seen'] = pd.to_datetime(week2['date_first_seen'])"
   ]
  },
  {
   "cell_type": "code",
   "execution_count": 5,
   "metadata": {},
   "outputs": [],
   "source": [
    "start_date = datetime.strptime('2017-03-17 14:18:05', '%Y-%m-%d %H:%M:%S')\n",
    "end_date = datetime.strptime('2017-03-20 17:42:17', '%Y-%m-%d %H:%M:%S')"
   ]
  },
  {
   "cell_type": "code",
   "execution_count": 6,
   "metadata": {},
   "outputs": [],
   "source": [
    "cond = (week1['date_first_seen'] >= start_date) & (week1['date_first_seen'] <= end_date)\n",
    "week1_selection = week1.where(cond).dropna()"
   ]
  },
  {
   "cell_type": "code",
   "execution_count": 7,
   "metadata": {},
   "outputs": [],
   "source": [
    "week1_x = week1_selection.drop(columns=utils.columns_to_drop + ['attack_type'])\n",
    "week1_y = pd.get_dummies(week1_selection['attack_type'])\n",
    "\n",
    "week2_x = week2.drop(columns=utils.columns_to_drop + ['attack_type'])\n",
    "week2_y = pd.get_dummies(week2['attack_type'])"
   ]
  },
  {
   "cell_type": "markdown",
   "metadata": {},
   "source": [
    "## Inspect training data"
   ]
  },
  {
   "cell_type": "code",
   "execution_count": 8,
   "metadata": {},
   "outputs": [
    {
     "data": {
      "text/html": [
       "<div>\n",
       "<style scoped>\n",
       "    .dataframe tbody tr th:only-of-type {\n",
       "        vertical-align: middle;\n",
       "    }\n",
       "\n",
       "    .dataframe tbody tr th {\n",
       "        vertical-align: top;\n",
       "    }\n",
       "\n",
       "    .dataframe thead th {\n",
       "        text-align: right;\n",
       "    }\n",
       "</style>\n",
       "<table border=\"1\" class=\"dataframe\">\n",
       "  <thead>\n",
       "    <tr style=\"text-align: right;\">\n",
       "      <th></th>\n",
       "      <th>count</th>\n",
       "    </tr>\n",
       "    <tr>\n",
       "      <th>attack_type</th>\n",
       "      <th></th>\n",
       "    </tr>\n",
       "  </thead>\n",
       "  <tbody>\n",
       "    <tr>\n",
       "      <th>---</th>\n",
       "      <td>2092587</td>\n",
       "    </tr>\n",
       "    <tr>\n",
       "      <th>bruteForce</th>\n",
       "      <td>1262</td>\n",
       "    </tr>\n",
       "    <tr>\n",
       "      <th>dos</th>\n",
       "      <td>390932</td>\n",
       "    </tr>\n",
       "    <tr>\n",
       "      <th>pingScan</th>\n",
       "      <td>1068</td>\n",
       "    </tr>\n",
       "    <tr>\n",
       "      <th>portScan</th>\n",
       "      <td>50136</td>\n",
       "    </tr>\n",
       "  </tbody>\n",
       "</table>\n",
       "</div>"
      ],
      "text/plain": [
       "               count\n",
       "attack_type         \n",
       "---          2092587\n",
       "bruteForce      1262\n",
       "dos           390932\n",
       "pingScan        1068\n",
       "portScan       50136"
      ]
     },
     "execution_count": 8,
     "metadata": {},
     "output_type": "execute_result"
    }
   ],
   "source": [
    "pd.DataFrame(week1_selection.groupby(by='attack_type').size(), columns=['count'])"
   ]
  },
  {
   "cell_type": "markdown",
   "metadata": {},
   "source": [
    "## Inspect test data"
   ]
  },
  {
   "cell_type": "code",
   "execution_count": 9,
   "metadata": {},
   "outputs": [
    {
     "data": {
      "text/html": [
       "<div>\n",
       "<style scoped>\n",
       "    .dataframe tbody tr th:only-of-type {\n",
       "        vertical-align: middle;\n",
       "    }\n",
       "\n",
       "    .dataframe tbody tr th {\n",
       "        vertical-align: top;\n",
       "    }\n",
       "\n",
       "    .dataframe thead th {\n",
       "        text-align: right;\n",
       "    }\n",
       "</style>\n",
       "<table border=\"1\" class=\"dataframe\">\n",
       "  <thead>\n",
       "    <tr style=\"text-align: right;\">\n",
       "      <th></th>\n",
       "      <th>count</th>\n",
       "    </tr>\n",
       "    <tr>\n",
       "      <th>attack_type</th>\n",
       "      <th></th>\n",
       "    </tr>\n",
       "  </thead>\n",
       "  <tbody>\n",
       "    <tr>\n",
       "      <th>---</th>\n",
       "      <td>8515329</td>\n",
       "    </tr>\n",
       "    <tr>\n",
       "      <th>bruteForce</th>\n",
       "      <td>3366</td>\n",
       "    </tr>\n",
       "    <tr>\n",
       "      <th>dos</th>\n",
       "      <td>1706900</td>\n",
       "    </tr>\n",
       "    <tr>\n",
       "      <th>pingScan</th>\n",
       "      <td>2731</td>\n",
       "    </tr>\n",
       "    <tr>\n",
       "      <th>portScan</th>\n",
       "      <td>82407</td>\n",
       "    </tr>\n",
       "  </tbody>\n",
       "</table>\n",
       "</div>"
      ],
      "text/plain": [
       "               count\n",
       "attack_type         \n",
       "---          8515329\n",
       "bruteForce      3366\n",
       "dos          1706900\n",
       "pingScan        2731\n",
       "portScan       82407"
      ]
     },
     "execution_count": 9,
     "metadata": {},
     "output_type": "execute_result"
    }
   ],
   "source": [
    "pd.DataFrame(week2.groupby(by='attack_type').size(), columns=['count'])"
   ]
  },
  {
   "cell_type": "markdown",
   "metadata": {},
   "source": [
    "## Normalize features"
   ]
  },
  {
   "cell_type": "code",
   "execution_count": 10,
   "metadata": {},
   "outputs": [],
   "source": [
    "params = utils.min_max_normalization(week1_x, utils.columns_to_normalize)\n",
    "utils._min_max_normalization_with_given_params(week2_x, utils.columns_to_normalize, params)"
   ]
  },
  {
   "cell_type": "markdown",
   "metadata": {},
   "source": [
    "## Create and compile the MLP model"
   ]
  },
  {
   "cell_type": "code",
   "execution_count": 11,
   "metadata": {},
   "outputs": [],
   "source": [
    "model = tf.keras.Sequential([\n",
    "    tf.keras.layers.Input(shape=(16,)),\n",
    "    tf.keras.layers.Dense(100, activation='relu'),\n",
    "    tf.keras.layers.Dropout(rate=0.2),\n",
    "    tf.keras.layers.Dense(100, activation='relu'),\n",
    "    tf.keras.layers.Dropout(rate=0.2),\n",
    "    tf.keras.layers.Dense(5, activation='softmax')\n",
    "])"
   ]
  },
  {
   "cell_type": "code",
   "execution_count": 12,
   "metadata": {},
   "outputs": [],
   "source": [
    "model.compile(optimizer='adam',\n",
    "              loss=tf.keras.losses.CategoricalCrossentropy(),\n",
    "              metrics=['accuracy'])"
   ]
  },
  {
   "cell_type": "markdown",
   "metadata": {},
   "source": [
    "## Transform feature and label DataFrames to numpy arrays"
   ]
  },
  {
   "cell_type": "code",
   "execution_count": 13,
   "metadata": {},
   "outputs": [],
   "source": [
    "x = week1_x.to_numpy()\n",
    "y = week1_y.to_numpy()"
   ]
  },
  {
   "cell_type": "markdown",
   "metadata": {},
   "source": [
    "## Fit the model with the training data"
   ]
  },
  {
   "cell_type": "code",
   "execution_count": 14,
   "metadata": {},
   "outputs": [
    {
     "name": "stdout",
     "output_type": "stream",
     "text": [
      "Epoch 1/50\n",
      "2477/2477 [==============================] - 11s 4ms/step - loss: 0.0617 - accuracy: 0.9823\n",
      "Epoch 2/50\n",
      "2477/2477 [==============================] - 10s 4ms/step - loss: 0.0293 - accuracy: 0.9920\n",
      "Epoch 3/50\n",
      "2477/2477 [==============================] - 9s 4ms/step - loss: 0.0225 - accuracy: 0.9942\n",
      "Epoch 4/50\n",
      "2477/2477 [==============================] - 10s 4ms/step - loss: 0.0200 - accuracy: 0.9950\n",
      "Epoch 5/50\n",
      "2477/2477 [==============================] - 9s 4ms/step - loss: 0.0183 - accuracy: 0.9954\n",
      "Epoch 6/50\n",
      "2477/2477 [==============================] - 9s 4ms/step - loss: 0.0173 - accuracy: 0.9957\n",
      "Epoch 7/50\n",
      "2477/2477 [==============================] - 9s 4ms/step - loss: 0.0162 - accuracy: 0.9960\n",
      "Epoch 8/50\n",
      "2477/2477 [==============================] - 10s 4ms/step - loss: 0.0159 - accuracy: 0.9961\n",
      "Epoch 9/50\n",
      "2477/2477 [==============================] - 9s 4ms/step - loss: 0.0157 - accuracy: 0.9962\n",
      "Epoch 10/50\n",
      "2477/2477 [==============================] - 10s 4ms/step - loss: 0.0143 - accuracy: 0.9966\n",
      "Epoch 11/50\n",
      "2477/2477 [==============================] - 11s 4ms/step - loss: 0.0150 - accuracy: 0.9964\n",
      "Epoch 12/50\n",
      "2477/2477 [==============================] - 10s 4ms/step - loss: 0.0149 - accuracy: 0.9964\n",
      "Epoch 13/50\n",
      "2477/2477 [==============================] - 9s 4ms/step - loss: 0.0143 - accuracy: 0.9966\n",
      "Epoch 14/50\n",
      "2477/2477 [==============================] - 9s 4ms/step - loss: 0.0153 - accuracy: 0.9964\n",
      "Epoch 15/50\n",
      "2477/2477 [==============================] - 9s 4ms/step - loss: 0.0142 - accuracy: 0.9967\n",
      "Epoch 16/50\n",
      "2477/2477 [==============================] - 10s 4ms/step - loss: 0.0144 - accuracy: 0.9966\n",
      "Epoch 17/50\n",
      "2477/2477 [==============================] - 10s 4ms/step - loss: 0.0157 - accuracy: 0.9962\n",
      "Epoch 18/50\n",
      "2477/2477 [==============================] - 9s 4ms/step - loss: 0.0161 - accuracy: 0.9960\n",
      "Epoch 19/50\n",
      "2477/2477 [==============================] - 9s 4ms/step - loss: 0.0160 - accuracy: 0.9960\n",
      "Epoch 20/50\n",
      "2477/2477 [==============================] - 9s 4ms/step - loss: 0.0152 - accuracy: 0.9963\n",
      "Epoch 21/50\n",
      "2477/2477 [==============================] - 10s 4ms/step - loss: 0.0172 - accuracy: 0.9954\n",
      "Epoch 22/50\n",
      "2477/2477 [==============================] - 9s 4ms/step - loss: 0.0155 - accuracy: 0.9960\n",
      "Epoch 23/50\n",
      "2477/2477 [==============================] - 10s 4ms/step - loss: 0.0147 - accuracy: 0.9964\n",
      "Epoch 24/50\n",
      "2477/2477 [==============================] - 10s 4ms/step - loss: 0.0133 - accuracy: 0.9967\n",
      "Epoch 25/50\n",
      "2477/2477 [==============================] - 11s 4ms/step - loss: 0.0139 - accuracy: 0.9966\n",
      "Epoch 26/50\n",
      "2477/2477 [==============================] - 10s 4ms/step - loss: 0.0154 - accuracy: 0.9963\n",
      "Epoch 27/50\n",
      "2477/2477 [==============================] - 10s 4ms/step - loss: 0.0160 - accuracy: 0.9958\n",
      "Epoch 28/50\n",
      "2477/2477 [==============================] - 10s 4ms/step - loss: 0.0152 - accuracy: 0.9961\n",
      "Epoch 29/50\n",
      "2477/2477 [==============================] - 10s 4ms/step - loss: 0.0151 - accuracy: 0.9961\n",
      "Epoch 30/50\n",
      "2477/2477 [==============================] - 10s 4ms/step - loss: 0.0144 - accuracy: 0.9964\n",
      "Epoch 31/50\n",
      "2477/2477 [==============================] - 10s 4ms/step - loss: 0.0152 - accuracy: 0.9963\n",
      "Epoch 32/50\n",
      "2477/2477 [==============================] - 10s 4ms/step - loss: 0.0156 - accuracy: 0.9962\n",
      "Epoch 33/50\n",
      "2477/2477 [==============================] - 9s 4ms/step - loss: 0.0151 - accuracy: 0.9964\n",
      "Epoch 34/50\n",
      "2477/2477 [==============================] - 10s 4ms/step - loss: 0.0147 - accuracy: 0.9963\n",
      "Epoch 35/50\n",
      "2477/2477 [==============================] - 10s 4ms/step - loss: 0.0153 - accuracy: 0.9959\n",
      "Epoch 36/50\n",
      "2477/2477 [==============================] - 10s 4ms/step - loss: 0.0155 - accuracy: 0.9961\n",
      "Epoch 37/50\n",
      "2477/2477 [==============================] - 9s 4ms/step - loss: 0.0178 - accuracy: 0.9955\n",
      "Epoch 38/50\n",
      "2477/2477 [==============================] - 10s 4ms/step - loss: 0.0180 - accuracy: 0.9949\n",
      "Epoch 39/50\n",
      "2477/2477 [==============================] - 10s 4ms/step - loss: 0.0197 - accuracy: 0.9939\n",
      "Epoch 40/50\n",
      "2477/2477 [==============================] - 9s 4ms/step - loss: 0.0133 - accuracy: 0.9966\n",
      "Epoch 41/50\n",
      "2477/2477 [==============================] - 9s 4ms/step - loss: 0.0131 - accuracy: 0.9969\n",
      "Epoch 42/50\n",
      "2477/2477 [==============================] - 9s 4ms/step - loss: 0.0147 - accuracy: 0.9961\n",
      "Epoch 43/50\n",
      "2477/2477 [==============================] - 9s 4ms/step - loss: 0.0158 - accuracy: 0.9962\n",
      "Epoch 44/50\n",
      "2477/2477 [==============================] - 9s 4ms/step - loss: 0.0153 - accuracy: 0.9963\n",
      "Epoch 45/50\n",
      "2477/2477 [==============================] - 10s 4ms/step - loss: 0.0147 - accuracy: 0.9966\n",
      "Epoch 46/50\n",
      "2477/2477 [==============================] - 9s 4ms/step - loss: 0.0191 - accuracy: 0.9952\n",
      "Epoch 47/50\n",
      "2477/2477 [==============================] - 9s 4ms/step - loss: 0.0134 - accuracy: 0.9967\n",
      "Epoch 48/50\n",
      "2477/2477 [==============================] - 9s 4ms/step - loss: 0.0154 - accuracy: 0.9962\n",
      "Epoch 49/50\n",
      "2477/2477 [==============================] - 10s 4ms/step - loss: 0.0160 - accuracy: 0.9961\n",
      "Epoch 50/50\n",
      "2477/2477 [==============================] - 10s 4ms/step - loss: 0.0156 - accuracy: 0.9961\n"
     ]
    },
    {
     "data": {
      "text/plain": [
       "<tensorflow.python.keras.callbacks.History at 0x1c100644940>"
      ]
     },
     "execution_count": 14,
     "metadata": {},
     "output_type": "execute_result"
    }
   ],
   "source": [
    "model.fit(x=x, y=y,\n",
    "          batch_size=1024,\n",
    "          epochs=50)"
   ]
  },
  {
   "cell_type": "markdown",
   "metadata": {},
   "source": [
    "## Test the fitted model with the data of week2"
   ]
  },
  {
   "cell_type": "code",
   "execution_count": 15,
   "metadata": {},
   "outputs": [],
   "source": [
    "x = week2_x.to_numpy()\n",
    "y = week2_y.to_numpy()"
   ]
  },
  {
   "cell_type": "code",
   "execution_count": 16,
   "metadata": {},
   "outputs": [
    {
     "name": "stdout",
     "output_type": "stream",
     "text": [
      "322211/322211 - 248s - loss: 0.0219 - accuracy: 0.9963\n",
      "\n",
      "Test accuracy: 0.9963391423225403\n"
     ]
    }
   ],
   "source": [
    "test_loss, test_acc = model.evaluate(x,  y, verbose=2)\n",
    "\n",
    "print('\\nTest accuracy:', test_acc)"
   ]
  },
  {
   "cell_type": "markdown",
   "metadata": {},
   "source": [
    "## Create a confusion matrix of the predictions on the test data"
   ]
  },
  {
   "cell_type": "code",
   "execution_count": 17,
   "metadata": {},
   "outputs": [],
   "source": [
    "pred_y = model.predict(x)"
   ]
  },
  {
   "cell_type": "code",
   "execution_count": 18,
   "metadata": {},
   "outputs": [],
   "source": [
    "y_lbl = np.argmax(y, axis=1)\n",
    "pred_y_lbl = np.argmax(pred_y, axis=1)"
   ]
  },
  {
   "cell_type": "code",
   "execution_count": 19,
   "metadata": {},
   "outputs": [
    {
     "data": {
      "text/plain": [
       "<tf.Tensor: shape=(5, 5), dtype=int32, numpy=\n",
       "array([[8493346,    1730,   12897,       0,    7356],\n",
       "       [   1586,     484,       0,       0,    1296],\n",
       "       [   1712,       0, 1705181,       0,       7],\n",
       "       [    243,       0,       0,       7,    2481],\n",
       "       [   8392,      46,       0,       0,   73969]])>"
      ]
     },
     "execution_count": 19,
     "metadata": {},
     "output_type": "execute_result"
    }
   ],
   "source": [
    "tf.math.confusion_matrix(labels=y_lbl, predictions=pred_y_lbl, num_classes=5)"
   ]
  }
 ],
 "metadata": {
  "interpreter": {
   "hash": "47dc783c64eba16578308ded2496eecd3f77c9cbf1d7b090711421ceeb34a226"
  },
  "kernelspec": {
   "display_name": "Python 3",
   "language": "python",
   "name": "python3"
  },
  "language_info": {
   "codemirror_mode": {
    "name": "ipython",
    "version": 3
   },
   "file_extension": ".py",
   "mimetype": "text/x-python",
   "name": "python",
   "nbconvert_exporter": "python",
   "pygments_lexer": "ipython3",
   "version": "3.8.10"
  }
 },
 "nbformat": 4,
 "nbformat_minor": 2
}
