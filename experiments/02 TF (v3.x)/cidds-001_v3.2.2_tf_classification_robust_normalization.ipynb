{
 "cells": [
  {
   "cell_type": "code",
   "execution_count": null,
   "source": [
    "%cd ../.."
   ],
   "outputs": [],
   "metadata": {}
  },
  {
   "cell_type": "markdown",
   "source": [
    "# Single flow - Multi Layer Perceptron classification of CIDDS-001 OpenStack data\r\n",
    "The implementation is based on the paper **Intelligent Cyber Attack Detetion and Classification for Network-Based Intrusion Detection Systems**. However, the training data that was used is now balanced. The data of the first and second week are joined together to obtain the biggest possible dataset to train with."
   ],
   "metadata": {}
  },
  {
   "cell_type": "code",
   "execution_count": 1,
   "source": [
    "# TensorFlow and tf.keras\r\n",
    "import tensorflow as tf\r\n",
    "\r\n",
    "# Helper libraries\r\n",
    "import pandas as pd\r\n",
    "import numpy as np\r\n",
    "from utils import cidds_001 as utils\r\n",
    "\r\n",
    "from sklearn.model_selection import train_test_split\r\n",
    "\r\n",
    "print(tf.__version__)"
   ],
   "outputs": [
    {
     "output_type": "stream",
     "name": "stdout",
     "text": [
      "2.2.0\n"
     ]
    }
   ],
   "metadata": {}
  },
  {
   "cell_type": "markdown",
   "source": [
    "## Load datasets"
   ],
   "metadata": {}
  },
  {
   "cell_type": "code",
   "execution_count": 2,
   "source": [
    "week1 = utils.load_internal_week1()\r\n",
    "week2 = utils.load_internal_week2()"
   ],
   "outputs": [],
   "metadata": {}
  },
  {
   "cell_type": "markdown",
   "source": [
    "## Preprocess datasets\r\n",
    "* Both datasets week1 and week2 are used to obtain as much malicous traffic of the underrepresented attack types as possible.\r\n",
    "* Split the features and labels of the new dataset and encode the labels with one hot encoding."
   ],
   "metadata": {}
  },
  {
   "cell_type": "code",
   "execution_count": 3,
   "source": [
    "week1_benign = week1.where(week1['attack_type'] == '---').dropna()\r\n",
    "week1_portScan = week1.where(week1['attack_type'] == 'portScan').dropna()\r\n",
    "week1_dos = week1.where(week1['attack_type'] == 'dos').dropna()\r\n",
    "week1_pingScan = week1.where(week1['attack_type'] == 'pingScan').dropna()\r\n",
    "week1_bruteForce = week1.where(week1['attack_type'] == 'bruteForce').dropna()"
   ],
   "outputs": [],
   "metadata": {}
  },
  {
   "cell_type": "code",
   "execution_count": 4,
   "source": [
    "print(f'len(week1_benign) = {len(week1_benign)}')\r\n",
    "print(f'len(week1_portScan) = {len(week1_portScan)}')\r\n",
    "print(f'len(week1_dos) = {len(week1_dos)}')\r\n",
    "print(f'len(week1_pingScan) = {len(week1_pingScan)}')\r\n",
    "print(f'len(week1_bruteForce) = {len(week1_bruteForce)}')"
   ],
   "outputs": [
    {
     "output_type": "stream",
     "name": "stdout",
     "text": [
      "len(week1_benign) = 7010897\n",
      "len(week1_portScan) = 183511\n",
      "len(week1_dos) = 1252127\n",
      "len(week1_pingScan) = 3359\n",
      "len(week1_bruteForce) = 1626\n"
     ]
    }
   ],
   "metadata": {}
  },
  {
   "cell_type": "code",
   "execution_count": 5,
   "source": [
    "week2_benign = week2.where(week2['attack_type'] == '---').dropna()\r\n",
    "week2_portScan = week2.where(week2['attack_type'] == 'portScan').dropna()\r\n",
    "week2_dos = week2.where(week2['attack_type'] == 'dos').dropna()\r\n",
    "week2_pingScan = week2.where(week2['attack_type'] == 'pingScan').dropna()\r\n",
    "week2_bruteForce = week2.where(week2['attack_type'] == 'bruteForce').dropna()"
   ],
   "outputs": [],
   "metadata": {}
  },
  {
   "cell_type": "code",
   "execution_count": 6,
   "source": [
    "print(f'len(week2_benign) = {len(week2_benign)}')\r\n",
    "print(f'len(week2_portScan) = {len(week2_portScan)}')\r\n",
    "print(f'len(week2_dos) = {len(week2_dos)}')\r\n",
    "print(f'len(week2_pingScan) = {len(week2_pingScan)}')\r\n",
    "print(f'len(week2_bruteForce) = {len(week2_bruteForce)}')"
   ],
   "outputs": [
    {
     "output_type": "stream",
     "name": "stdout",
     "text": [
      "len(week2_benign) = 8515329\n",
      "len(week2_portScan) = 82407\n",
      "len(week2_dos) = 1706900\n",
      "len(week2_pingScan) = 2731\n",
      "len(week2_bruteForce) = 3366\n"
     ]
    }
   ],
   "metadata": {}
  },
  {
   "cell_type": "code",
   "execution_count": 7,
   "source": [
    "dataset = pd.concat(\r\n",
    "    [\r\n",
    "        week1_pingScan, week2_pingScan, # use all pingScan flows of both wee1 and week2\r\n",
    "        week1_bruteForce, week2_bruteForce, # use all bruteForce flows of both week1 and week2\r\n",
    "        week1_benign.sample(frac=1, random_state=13).head(6000), # but use a small random sample of data of all other attack types\r\n",
    "        week2_benign.sample(frac=1, random_state=13).head(6000),\r\n",
    "        week1_dos.sample(frac=1, random_state=13).head(6000),\r\n",
    "        week2_dos.sample(frac=1, random_state=13).head(6000),\r\n",
    "        week1_portScan.sample(frac=1, random_state=13).head(6000),\r\n",
    "        week2_portScan.sample(frac=1, random_state=13).head(6000),\r\n",
    "    ]\r\n",
    ").sample(frac=1, random_state=13)"
   ],
   "outputs": [],
   "metadata": {}
  },
  {
   "cell_type": "code",
   "execution_count": 8,
   "source": [
    "print(f'len(dataset) = {len(dataset)}')"
   ],
   "outputs": [
    {
     "output_type": "stream",
     "name": "stdout",
     "text": [
      "len(dataset) = 47082\n"
     ]
    }
   ],
   "metadata": {}
  },
  {
   "cell_type": "code",
   "execution_count": 9,
   "source": [
    "data_x = dataset.drop(columns=utils.columns_to_drop + ['attack_type'])\r\n",
    "data_y = pd.get_dummies(dataset['attack_type'])"
   ],
   "outputs": [],
   "metadata": {}
  },
  {
   "cell_type": "markdown",
   "source": [
    "## Split training and testing datasets"
   ],
   "metadata": {}
  },
  {
   "cell_type": "code",
   "execution_count": 10,
   "source": [
    "x_train, x_test, y_train, y_test = train_test_split(data_x, data_y, test_size=0.2, random_state=13)"
   ],
   "outputs": [],
   "metadata": {}
  },
  {
   "cell_type": "markdown",
   "source": [
    "## Noramalize features"
   ],
   "metadata": {}
  },
  {
   "cell_type": "code",
   "execution_count": 11,
   "source": [
    "_ = utils.robust_scaling_normalization(x_train, utils.columns_to_normalize, cidds_df_test=x_test)"
   ],
   "outputs": [],
   "metadata": {}
  },
  {
   "cell_type": "markdown",
   "source": [
    "## Create and compile the MLP model"
   ],
   "metadata": {}
  },
  {
   "cell_type": "code",
   "execution_count": 12,
   "source": [
    "model = tf.keras.Sequential([\r\n",
    "    tf.keras.layers.Input(shape=(16,)),\r\n",
    "    tf.keras.layers.Dense(100, activation='relu'),\r\n",
    "    tf.keras.layers.Dropout(rate=0.2),\r\n",
    "    tf.keras.layers.Dense(100, activation='relu'),\r\n",
    "    tf.keras.layers.Dropout(rate=0.2),\r\n",
    "    tf.keras.layers.Dense(5, activation='softmax')\r\n",
    "])"
   ],
   "outputs": [],
   "metadata": {}
  },
  {
   "cell_type": "code",
   "execution_count": 13,
   "source": [
    "model.compile(optimizer='adam',\r\n",
    "              loss=tf.keras.losses.CategoricalCrossentropy(),\r\n",
    "              metrics=['accuracy'])"
   ],
   "outputs": [],
   "metadata": {}
  },
  {
   "cell_type": "markdown",
   "source": [
    "## Fit the MLP model"
   ],
   "metadata": {}
  },
  {
   "cell_type": "code",
   "execution_count": 14,
   "source": [
    "x = x_train.to_numpy()\r\n",
    "y = y_train.to_numpy()"
   ],
   "outputs": [],
   "metadata": {}
  },
  {
   "cell_type": "code",
   "execution_count": 15,
   "source": [
    "model.fit(x=x, y=y,\r\n",
    "          batch_size=1024,\r\n",
    "          epochs=50)"
   ],
   "outputs": [
    {
     "output_type": "stream",
     "name": "stdout",
     "text": [
      "Epoch 1/50\n",
      "37/37 [==============================] - 0s 4ms/step - loss: 4.0404 - accuracy: 0.5075\n",
      "Epoch 2/50\n",
      "37/37 [==============================] - 0s 4ms/step - loss: 1.7402 - accuracy: 0.6876\n",
      "Epoch 3/50\n",
      "37/37 [==============================] - 0s 4ms/step - loss: 1.3277 - accuracy: 0.7603\n",
      "Epoch 4/50\n",
      "37/37 [==============================] - 0s 4ms/step - loss: 0.9353 - accuracy: 0.7985\n",
      "Epoch 5/50\n",
      "37/37 [==============================] - 0s 4ms/step - loss: 0.7574 - accuracy: 0.8208\n",
      "Epoch 6/50\n",
      "37/37 [==============================] - 0s 4ms/step - loss: 0.9012 - accuracy: 0.8340\n",
      "Epoch 7/50\n",
      "37/37 [==============================] - 0s 4ms/step - loss: 0.6227 - accuracy: 0.8404\n",
      "Epoch 8/50\n",
      "37/37 [==============================] - 0s 4ms/step - loss: 0.5644 - accuracy: 0.8451\n",
      "Epoch 9/50\n",
      "37/37 [==============================] - 0s 4ms/step - loss: 0.5016 - accuracy: 0.8509\n",
      "Epoch 10/50\n",
      "37/37 [==============================] - 0s 4ms/step - loss: 0.4725 - accuracy: 0.8556\n",
      "Epoch 11/50\n",
      "37/37 [==============================] - 0s 3ms/step - loss: 0.4491 - accuracy: 0.8594\n",
      "Epoch 12/50\n",
      "37/37 [==============================] - 0s 4ms/step - loss: 0.4309 - accuracy: 0.8623\n",
      "Epoch 13/50\n",
      "37/37 [==============================] - 0s 4ms/step - loss: 0.3994 - accuracy: 0.8661\n",
      "Epoch 14/50\n",
      "37/37 [==============================] - 0s 4ms/step - loss: 0.4055 - accuracy: 0.8711\n",
      "Epoch 15/50\n",
      "37/37 [==============================] - 0s 4ms/step - loss: 0.3923 - accuracy: 0.8725\n",
      "Epoch 16/50\n",
      "37/37 [==============================] - 0s 3ms/step - loss: 0.3612 - accuracy: 0.8769\n",
      "Epoch 17/50\n",
      "37/37 [==============================] - 0s 4ms/step - loss: 0.3480 - accuracy: 0.8809\n",
      "Epoch 18/50\n",
      "37/37 [==============================] - 0s 4ms/step - loss: 0.3321 - accuracy: 0.8858\n",
      "Epoch 19/50\n",
      "37/37 [==============================] - 0s 4ms/step - loss: 0.3313 - accuracy: 0.8875\n",
      "Epoch 20/50\n",
      "37/37 [==============================] - 0s 4ms/step - loss: 0.3347 - accuracy: 0.8909\n",
      "Epoch 21/50\n",
      "37/37 [==============================] - 0s 4ms/step - loss: 0.3133 - accuracy: 0.8940\n",
      "Epoch 22/50\n",
      "37/37 [==============================] - 0s 4ms/step - loss: 0.3337 - accuracy: 0.8983\n",
      "Epoch 23/50\n",
      "37/37 [==============================] - 0s 3ms/step - loss: 0.2997 - accuracy: 0.9004\n",
      "Epoch 24/50\n",
      "37/37 [==============================] - 0s 4ms/step - loss: 0.2979 - accuracy: 0.9022\n",
      "Epoch 25/50\n",
      "37/37 [==============================] - 0s 4ms/step - loss: 0.2871 - accuracy: 0.9068\n",
      "Epoch 26/50\n",
      "37/37 [==============================] - 0s 4ms/step - loss: 0.2787 - accuracy: 0.9091\n",
      "Epoch 27/50\n",
      "37/37 [==============================] - 0s 4ms/step - loss: 0.2676 - accuracy: 0.9134\n",
      "Epoch 28/50\n",
      "37/37 [==============================] - 0s 4ms/step - loss: 0.2619 - accuracy: 0.9184\n",
      "Epoch 29/50\n",
      "37/37 [==============================] - 0s 4ms/step - loss: 0.2657 - accuracy: 0.9177\n",
      "Epoch 30/50\n",
      "37/37 [==============================] - 0s 4ms/step - loss: 0.2537 - accuracy: 0.9239\n",
      "Epoch 31/50\n",
      "37/37 [==============================] - 0s 3ms/step - loss: 0.2476 - accuracy: 0.9261\n",
      "Epoch 32/50\n",
      "37/37 [==============================] - 0s 4ms/step - loss: 0.2389 - accuracy: 0.9287\n",
      "Epoch 33/50\n",
      "37/37 [==============================] - 0s 4ms/step - loss: 0.2357 - accuracy: 0.9313\n",
      "Epoch 34/50\n",
      "37/37 [==============================] - 0s 4ms/step - loss: 0.2411 - accuracy: 0.9316\n",
      "Epoch 35/50\n",
      "37/37 [==============================] - 0s 4ms/step - loss: 0.2274 - accuracy: 0.9348\n",
      "Epoch 36/50\n",
      "37/37 [==============================] - 0s 4ms/step - loss: 0.2235 - accuracy: 0.9369\n",
      "Epoch 37/50\n",
      "37/37 [==============================] - 0s 4ms/step - loss: 0.2178 - accuracy: 0.9391\n",
      "Epoch 38/50\n",
      "37/37 [==============================] - 0s 4ms/step - loss: 0.2145 - accuracy: 0.9408\n",
      "Epoch 39/50\n",
      "37/37 [==============================] - 0s 3ms/step - loss: 0.2073 - accuracy: 0.9433\n",
      "Epoch 40/50\n",
      "37/37 [==============================] - 0s 4ms/step - loss: 0.2054 - accuracy: 0.9424\n",
      "Epoch 41/50\n",
      "37/37 [==============================] - 0s 5ms/step - loss: 0.2195 - accuracy: 0.9404\n",
      "Epoch 42/50\n",
      "37/37 [==============================] - 0s 4ms/step - loss: 0.2066 - accuracy: 0.9427\n",
      "Epoch 43/50\n",
      "37/37 [==============================] - 0s 3ms/step - loss: 0.1956 - accuracy: 0.9448\n",
      "Epoch 44/50\n",
      "37/37 [==============================] - 0s 3ms/step - loss: 0.1978 - accuracy: 0.9451\n",
      "Epoch 45/50\n",
      "37/37 [==============================] - 0s 4ms/step - loss: 0.1983 - accuracy: 0.9464\n",
      "Epoch 46/50\n",
      "37/37 [==============================] - 0s 4ms/step - loss: 0.1931 - accuracy: 0.9457\n",
      "Epoch 47/50\n",
      "37/37 [==============================] - 0s 4ms/step - loss: 0.1932 - accuracy: 0.9469\n",
      "Epoch 48/50\n",
      "37/37 [==============================] - 0s 3ms/step - loss: 0.1823 - accuracy: 0.9485\n",
      "Epoch 49/50\n",
      "37/37 [==============================] - 0s 3ms/step - loss: 0.1869 - accuracy: 0.9483\n",
      "Epoch 50/50\n",
      "37/37 [==============================] - 0s 3ms/step - loss: 0.1784 - accuracy: 0.9492\n"
     ]
    },
    {
     "output_type": "execute_result",
     "data": {
      "text/plain": [
       "<tensorflow.python.keras.callbacks.History at 0x1f7a9058220>"
      ]
     },
     "metadata": {},
     "execution_count": 15
    }
   ],
   "metadata": {}
  },
  {
   "cell_type": "markdown",
   "source": [
    "## Test the fitted model with unseen data"
   ],
   "metadata": {}
  },
  {
   "cell_type": "code",
   "execution_count": 16,
   "source": [
    "x = x_test.to_numpy()\r\n",
    "y = y_test.to_numpy()"
   ],
   "outputs": [],
   "metadata": {}
  },
  {
   "cell_type": "code",
   "execution_count": 17,
   "source": [
    "test_loss, test_acc = model.evaluate(x,  y, verbose=2)\r\n",
    "\r\n",
    "print('\\nTest accuracy:', test_acc)"
   ],
   "outputs": [
    {
     "output_type": "stream",
     "name": "stdout",
     "text": [
      "295/295 - 0s - loss: 0.1562 - accuracy: 0.9557\n",
      "\n",
      "Test accuracy: 0.9557183980941772\n"
     ]
    }
   ],
   "metadata": {}
  },
  {
   "cell_type": "markdown",
   "source": [
    "## Create a confusion matrix for the predictions on the test data"
   ],
   "metadata": {}
  },
  {
   "cell_type": "code",
   "execution_count": 18,
   "source": [
    "pred_y = model.predict(x)"
   ],
   "outputs": [],
   "metadata": {}
  },
  {
   "cell_type": "code",
   "execution_count": 19,
   "source": [
    "y_lbl = np.argmax(y, axis=1)\r\n",
    "pred_y_lbl = np.argmax(pred_y, axis=1)"
   ],
   "outputs": [],
   "metadata": {}
  },
  {
   "cell_type": "code",
   "execution_count": 20,
   "source": [
    "tf.math.confusion_matrix(labels=y_lbl, predictions=pred_y_lbl, num_classes=5)"
   ],
   "outputs": [
    {
     "output_type": "execute_result",
     "data": {
      "text/plain": [
       "<tf.Tensor: shape=(5, 5), dtype=int32, numpy=\n",
       "array([[2229,   93,    5,    0,    8],\n",
       "       [  26,  936,    0,    1,   47],\n",
       "       [   0,    0, 2359,    0,    0],\n",
       "       [  48,   22,    0, 1174,    6],\n",
       "       [  35,   38,    0,   88, 2302]])>"
      ]
     },
     "metadata": {},
     "execution_count": 20
    }
   ],
   "metadata": {}
  },
  {
   "cell_type": "code",
   "execution_count": 21,
   "source": [
    "print(f'Columns of data_y (and confusion matrix): {data_y.columns}')"
   ],
   "outputs": [
    {
     "output_type": "stream",
     "name": "stdout",
     "text": [
      "Columns of data_y (and confusion matrix): Index(['---', 'bruteForce', 'dos', 'pingScan', 'portScan'], dtype='object')\n"
     ]
    }
   ],
   "metadata": {}
  }
 ],
 "metadata": {
  "interpreter": {
   "hash": "47dc783c64eba16578308ded2496eecd3f77c9cbf1d7b090711421ceeb34a226"
  },
  "kernelspec": {
   "name": "python3",
   "display_name": "Python 3.8.10 64-bit ('base': conda)"
  },
  "language_info": {
   "codemirror_mode": {
    "name": "ipython",
    "version": 3
   },
   "file_extension": ".py",
   "mimetype": "text/x-python",
   "name": "python",
   "nbconvert_exporter": "python",
   "pygments_lexer": "ipython3",
   "version": "3.8.10"
  },
  "orig_nbformat": 4
 },
 "nbformat": 4,
 "nbformat_minor": 2
}