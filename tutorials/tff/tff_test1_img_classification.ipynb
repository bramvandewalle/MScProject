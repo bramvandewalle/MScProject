{
 "cells": [
  {
   "cell_type": "code",
   "execution_count": 1,
   "source": [
    "from IPython.display import clear_output\r\n",
    "\r\n",
    "# tensorflow_federated_nightly also bring in tf_nightly, which\r\n",
    "# can causes a duplicate tensorboard install, leading to errors.\r\n",
    "# !pip uninstall --yes tensorboard tb-nightly\r\n",
    "\r\n",
    "# !pip install --upgrade tensorflow-federated-nightly\r\n",
    "# !pip install --upgrade nest-asyncio\r\n",
    "# !pip install --upgrade tb-nightly\r\n",
    "\r\n",
    "import nest_asyncio\r\n",
    "nest_asyncio.apply()"
   ],
   "outputs": [],
   "metadata": {}
  },
  {
   "cell_type": "code",
   "execution_count": 2,
   "source": [
    "%load_ext tensorboard"
   ],
   "outputs": [],
   "metadata": {}
  },
  {
   "cell_type": "code",
   "execution_count": 3,
   "source": [
    "import collections\r\n",
    "\r\n",
    "import numpy as np\r\n",
    "import tensorflow as tf\r\n",
    "import tensorflow_federated as tff\r\n",
    "\r\n",
    "np.random.seed(0)\r\n",
    "\r\n",
    "tff.federated_computation(lambda: 'Hello, World!')()"
   ],
   "outputs": [
    {
     "output_type": "execute_result",
     "data": {
      "text/plain": [
       "b'Hello, World!'"
      ]
     },
     "metadata": {},
     "execution_count": 3
    }
   ],
   "metadata": {}
  },
  {
   "cell_type": "markdown",
   "source": [
    "## Preparing the input data"
   ],
   "metadata": {}
  },
  {
   "cell_type": "code",
   "execution_count": 4,
   "source": [
    "emnist_train, emnist_test = tff.simulation.datasets.emnist.load_data()"
   ],
   "outputs": [],
   "metadata": {}
  },
  {
   "cell_type": "code",
   "execution_count": 5,
   "source": [
    "client_id = emnist_train.client_ids[0] # string 'f0000_14'\r\n",
    "z = emnist_train.create_tf_dataset_for_client(client_id) # tf.data.Dataset\r\n",
    "it = iter(z)\r\n",
    "elem = next(it)\r\n",
    "elem"
   ],
   "outputs": [
    {
     "output_type": "execute_result",
     "data": {
      "text/plain": [
       "OrderedDict([('label', <tf.Tensor: shape=(), dtype=int32, numpy=5>),\n",
       "             ('pixels',\n",
       "              <tf.Tensor: shape=(28, 28), dtype=float32, numpy=\n",
       "              array([[1.        , 1.        , 1.        , 1.        , 1.        ,\n",
       "                      1.        , 1.        , 1.        , 1.        , 1.        ,\n",
       "                      1.        , 1.        , 1.        , 1.        , 1.        ,\n",
       "                      1.        , 1.        , 1.        , 1.        , 1.        ,\n",
       "                      1.        , 1.        , 1.        , 1.        , 1.        ,\n",
       "                      1.        , 1.        , 1.        ],\n",
       "                     [1.        , 1.        , 1.        , 1.        , 1.        ,\n",
       "                      1.        , 1.        , 1.        , 1.        , 1.        ,\n",
       "                      1.        , 1.        , 1.        , 1.        , 1.        ,\n",
       "                      1.        , 1.        , 1.        , 1.        , 1.        ,\n",
       "                      1.        , 1.        , 1.        , 1.        , 1.        ,\n",
       "                      1.        , 1.        , 1.        ],\n",
       "                     [1.        , 1.        , 1.        , 1.        , 1.        ,\n",
       "                      1.        , 1.        , 1.        , 1.        , 1.        ,\n",
       "                      1.        , 1.        , 1.        , 1.        , 1.        ,\n",
       "                      1.        , 1.        , 1.        , 1.        , 1.        ,\n",
       "                      1.        , 1.        , 1.        , 1.        , 1.        ,\n",
       "                      1.        , 1.        , 1.        ],\n",
       "                     [1.        , 1.        , 1.        , 1.        , 1.        ,\n",
       "                      1.        , 1.        , 1.        , 1.        , 1.        ,\n",
       "                      1.        , 1.        , 1.        , 1.        , 1.        ,\n",
       "                      1.        , 1.        , 1.        , 1.        , 1.        ,\n",
       "                      1.        , 1.        , 1.        , 1.        , 1.        ,\n",
       "                      1.        , 1.        , 1.        ],\n",
       "                     [1.        , 1.        , 1.        , 1.        , 1.        ,\n",
       "                      1.        , 1.        , 1.        , 1.        , 1.        ,\n",
       "                      1.        , 1.        , 1.        , 1.        , 1.        ,\n",
       "                      1.        , 1.        , 1.        , 1.        , 1.        ,\n",
       "                      1.        , 1.        , 1.        , 1.        , 1.        ,\n",
       "                      1.        , 1.        , 1.        ],\n",
       "                     [1.        , 1.        , 1.        , 1.        , 1.        ,\n",
       "                      1.        , 1.        , 1.        , 1.        , 1.        ,\n",
       "                      1.        , 1.        , 1.        , 1.        , 1.        ,\n",
       "                      1.        , 1.        , 1.        , 1.        , 1.        ,\n",
       "                      1.        , 1.        , 1.        , 1.        , 1.        ,\n",
       "                      1.        , 1.        , 1.        ],\n",
       "                     [1.        , 1.        , 1.        , 1.        , 1.        ,\n",
       "                      1.        , 1.        , 1.        , 1.        , 1.        ,\n",
       "                      1.        , 1.        , 1.        , 1.        , 1.        ,\n",
       "                      1.        , 1.        , 1.        , 1.        , 1.        ,\n",
       "                      1.        , 1.        , 1.        , 1.        , 1.        ,\n",
       "                      1.        , 1.        , 1.        ],\n",
       "                     [1.        , 1.        , 1.        , 1.        , 1.        ,\n",
       "                      1.        , 1.        , 1.        , 1.        , 1.        ,\n",
       "                      1.        , 1.        , 1.        , 1.        , 1.        ,\n",
       "                      1.        , 1.        , 0.99607843, 0.99215686, 0.99607843,\n",
       "                      1.        , 1.        , 1.        , 1.        , 1.        ,\n",
       "                      1.        , 1.        , 1.        ],\n",
       "                     [1.        , 1.        , 1.        , 1.        , 1.        ,\n",
       "                      1.        , 1.        , 1.        , 1.        , 1.        ,\n",
       "                      1.        , 1.        , 1.        , 1.        , 1.        ,\n",
       "                      0.9882353 , 0.9882353 , 1.        , 1.        , 1.        ,\n",
       "                      1.        , 1.        , 1.        , 1.        , 1.        ,\n",
       "                      1.        , 1.        , 1.        ],\n",
       "                     [1.        , 1.        , 1.        , 1.        , 1.        ,\n",
       "                      1.        , 1.        , 1.        , 1.        , 1.        ,\n",
       "                      1.        , 1.        , 1.        , 0.99215686, 1.        ,\n",
       "                      1.        , 1.        , 1.        , 0.8117647 , 0.91764706,\n",
       "                      1.        , 0.99607843, 1.        , 1.        , 1.        ,\n",
       "                      1.        , 1.        , 1.        ],\n",
       "                     [1.        , 1.        , 1.        , 1.        , 1.        ,\n",
       "                      1.        , 1.        , 1.        , 1.        , 1.        ,\n",
       "                      1.        , 1.        , 0.9882353 , 1.        , 1.        ,\n",
       "                      0.7176471 , 0.3137255 , 0.14117648, 0.02352941, 0.47058824,\n",
       "                      1.        , 0.9882353 , 1.        , 1.        , 1.        ,\n",
       "                      1.        , 1.        , 1.        ],\n",
       "                     [1.        , 1.        , 1.        , 1.        , 1.        ,\n",
       "                      1.        , 1.        , 1.        , 1.        , 1.        ,\n",
       "                      1.        , 0.9882353 , 1.        , 0.7647059 , 0.16078432,\n",
       "                      0.11372549, 0.33333334, 0.5803922 , 0.88235295, 0.98039216,\n",
       "                      0.99607843, 1.        , 1.        , 1.        , 1.        ,\n",
       "                      1.        , 1.        , 1.        ],\n",
       "                     [1.        , 1.        , 1.        , 1.        , 1.        ,\n",
       "                      1.        , 1.        , 1.        , 1.        , 0.99607843,\n",
       "                      1.        , 1.        , 0.6901961 , 0.2627451 , 0.64705884,\n",
       "                      0.9764706 , 1.        , 1.        , 1.        , 1.        ,\n",
       "                      1.        , 1.        , 1.        , 1.        , 1.        ,\n",
       "                      1.        , 1.        , 1.        ],\n",
       "                     [1.        , 1.        , 1.        , 1.        , 1.        ,\n",
       "                      1.        , 1.        , 1.        , 0.99607843, 0.98039216,\n",
       "                      0.99607843, 0.38039216, 0.29803923, 1.        , 1.        ,\n",
       "                      1.        , 0.9843137 , 0.9882353 , 0.99215686, 1.        ,\n",
       "                      1.        , 1.        , 1.        , 1.        , 1.        ,\n",
       "                      1.        , 1.        , 1.        ],\n",
       "                     [1.        , 1.        , 1.        , 1.        , 1.        ,\n",
       "                      1.        , 1.        , 1.        , 1.        , 1.        ,\n",
       "                      1.        , 0.18431373, 0.25882354, 0.92941177, 0.98039216,\n",
       "                      0.99215686, 1.        , 1.        , 1.        , 1.        ,\n",
       "                      1.        , 1.        , 1.        , 1.        , 1.        ,\n",
       "                      1.        , 1.        , 1.        ],\n",
       "                     [1.        , 1.        , 1.        , 1.        , 1.        ,\n",
       "                      1.        , 0.99607843, 0.99607843, 0.9137255 , 0.5019608 ,\n",
       "                      0.92156863, 1.        , 0.08627451, 0.3882353 , 1.        ,\n",
       "                      0.9843137 , 1.        , 1.        , 1.        , 1.        ,\n",
       "                      1.        , 1.        , 1.        , 1.        , 1.        ,\n",
       "                      1.        , 1.        , 1.        ],\n",
       "                     [1.        , 1.        , 1.        , 1.        , 1.        ,\n",
       "                      1.        , 0.9882353 , 1.        , 0.42745098, 0.01176471,\n",
       "                      0.5529412 , 0.56078434, 0.05882353, 0.7294118 , 0.99607843,\n",
       "                      0.9882353 , 1.        , 1.        , 1.        , 1.        ,\n",
       "                      1.        , 1.        , 1.        , 1.        , 1.        ,\n",
       "                      1.        , 1.        , 1.        ],\n",
       "                     [1.        , 1.        , 1.        , 1.        , 1.        ,\n",
       "                      1.        , 0.99607843, 1.        , 0.92156863, 0.48235294,\n",
       "                      0.23529412, 0.23529412, 0.6901961 , 1.        , 0.99607843,\n",
       "                      1.        , 1.        , 1.        , 1.        , 1.        ,\n",
       "                      1.        , 1.        , 1.        , 1.        , 1.        ,\n",
       "                      1.        , 1.        , 1.        ],\n",
       "                     [1.        , 1.        , 1.        , 1.        , 1.        ,\n",
       "                      1.        , 1.        , 1.        , 1.        , 1.        ,\n",
       "                      1.        , 1.        , 1.        , 0.99607843, 1.        ,\n",
       "                      1.        , 1.        , 1.        , 1.        , 1.        ,\n",
       "                      1.        , 1.        , 1.        , 1.        , 1.        ,\n",
       "                      1.        , 1.        , 1.        ],\n",
       "                     [1.        , 1.        , 1.        , 1.        , 1.        ,\n",
       "                      1.        , 1.        , 1.        , 0.99607843, 0.9843137 ,\n",
       "                      0.9882353 , 0.9882353 , 0.9882353 , 1.        , 1.        ,\n",
       "                      1.        , 1.        , 1.        , 1.        , 1.        ,\n",
       "                      1.        , 1.        , 1.        , 1.        , 1.        ,\n",
       "                      1.        , 1.        , 1.        ],\n",
       "                     [1.        , 1.        , 1.        , 1.        , 1.        ,\n",
       "                      1.        , 1.        , 1.        , 1.        , 1.        ,\n",
       "                      1.        , 1.        , 1.        , 1.        , 1.        ,\n",
       "                      1.        , 1.        , 1.        , 1.        , 1.        ,\n",
       "                      1.        , 1.        , 1.        , 1.        , 1.        ,\n",
       "                      1.        , 1.        , 1.        ],\n",
       "                     [1.        , 1.        , 1.        , 1.        , 1.        ,\n",
       "                      1.        , 1.        , 1.        , 1.        , 1.        ,\n",
       "                      1.        , 1.        , 1.        , 1.        , 1.        ,\n",
       "                      1.        , 1.        , 1.        , 1.        , 1.        ,\n",
       "                      1.        , 1.        , 1.        , 1.        , 1.        ,\n",
       "                      1.        , 1.        , 1.        ],\n",
       "                     [1.        , 1.        , 1.        , 1.        , 1.        ,\n",
       "                      1.        , 1.        , 1.        , 1.        , 1.        ,\n",
       "                      1.        , 1.        , 1.        , 1.        , 1.        ,\n",
       "                      1.        , 1.        , 1.        , 1.        , 1.        ,\n",
       "                      1.        , 1.        , 1.        , 1.        , 1.        ,\n",
       "                      1.        , 1.        , 1.        ],\n",
       "                     [1.        , 1.        , 1.        , 1.        , 1.        ,\n",
       "                      1.        , 1.        , 1.        , 1.        , 1.        ,\n",
       "                      1.        , 1.        , 1.        , 1.        , 1.        ,\n",
       "                      1.        , 1.        , 1.        , 1.        , 1.        ,\n",
       "                      1.        , 1.        , 1.        , 1.        , 1.        ,\n",
       "                      1.        , 1.        , 1.        ],\n",
       "                     [1.        , 1.        , 1.        , 1.        , 1.        ,\n",
       "                      1.        , 1.        , 1.        , 1.        , 1.        ,\n",
       "                      1.        , 1.        , 1.        , 1.        , 1.        ,\n",
       "                      1.        , 1.        , 1.        , 1.        , 1.        ,\n",
       "                      1.        , 1.        , 1.        , 1.        , 1.        ,\n",
       "                      1.        , 1.        , 1.        ],\n",
       "                     [1.        , 1.        , 1.        , 1.        , 1.        ,\n",
       "                      1.        , 1.        , 1.        , 1.        , 1.        ,\n",
       "                      1.        , 1.        , 1.        , 1.        , 1.        ,\n",
       "                      1.        , 1.        , 1.        , 1.        , 1.        ,\n",
       "                      1.        , 1.        , 1.        , 1.        , 1.        ,\n",
       "                      1.        , 1.        , 1.        ],\n",
       "                     [1.        , 1.        , 1.        , 1.        , 1.        ,\n",
       "                      1.        , 1.        , 1.        , 1.        , 1.        ,\n",
       "                      1.        , 1.        , 1.        , 1.        , 1.        ,\n",
       "                      1.        , 1.        , 1.        , 1.        , 1.        ,\n",
       "                      1.        , 1.        , 1.        , 1.        , 1.        ,\n",
       "                      1.        , 1.        , 1.        ],\n",
       "                     [1.        , 1.        , 1.        , 1.        , 1.        ,\n",
       "                      1.        , 1.        , 1.        , 1.        , 1.        ,\n",
       "                      1.        , 1.        , 1.        , 1.        , 1.        ,\n",
       "                      1.        , 1.        , 1.        , 1.        , 1.        ,\n",
       "                      1.        , 1.        , 1.        , 1.        , 1.        ,\n",
       "                      1.        , 1.        , 1.        ]], dtype=float32)>)])"
      ]
     },
     "metadata": {},
     "execution_count": 5
    }
   ],
   "metadata": {}
  },
  {
   "cell_type": "code",
   "execution_count": 12,
   "source": [
    "z = emnist_train.create_tf_dataset_for_client('f0000_14')\r\n",
    "it = z.as_numpy_iterator()\r\n",
    "v = next(it)\r\n",
    "\r\n",
    "print(f'Type of label: {type(v[\"label\"])}')\r\n",
    "print(f'Type of pixels: {type(v[\"pixels\"])}')"
   ],
   "outputs": [
    {
     "output_type": "stream",
     "name": "stdout",
     "text": [
      "<class 'numpy.int32'>\n"
     ]
    }
   ],
   "metadata": {}
  },
  {
   "cell_type": "code",
   "execution_count": 5,
   "source": [
    "len(emnist_train.client_ids)"
   ],
   "outputs": [
    {
     "output_type": "execute_result",
     "data": {
      "text/plain": [
       "3383"
      ]
     },
     "metadata": {},
     "execution_count": 5
    }
   ],
   "metadata": {}
  },
  {
   "cell_type": "code",
   "execution_count": 6,
   "source": [
    "emnist_train.element_type_structure"
   ],
   "outputs": [
    {
     "output_type": "execute_result",
     "data": {
      "text/plain": [
       "OrderedDict([('label', TensorSpec(shape=(), dtype=tf.int32, name=None)),\n",
       "             ('pixels',\n",
       "              TensorSpec(shape=(28, 28), dtype=tf.float32, name=None))])"
      ]
     },
     "metadata": {},
     "execution_count": 6
    }
   ],
   "metadata": {}
  },
  {
   "cell_type": "code",
   "execution_count": 7,
   "source": [
    "example_dataset = emnist_train.create_tf_dataset_for_client(\r\n",
    "    emnist_train.client_ids[0])\r\n",
    "\r\n",
    "example_element = next(iter(example_dataset))\r\n",
    "\r\n",
    "example_element['label'].numpy()"
   ],
   "outputs": [
    {
     "output_type": "execute_result",
     "data": {
      "text/plain": [
       "5"
      ]
     },
     "metadata": {},
     "execution_count": 7
    }
   ],
   "metadata": {}
  },
  {
   "cell_type": "code",
   "execution_count": 8,
   "source": [
    "from matplotlib import pyplot as plt\r\n",
    "plt.imshow(example_element['pixels'].numpy(), cmap='gray', aspect='equal')\r\n",
    "plt.grid(False)\r\n",
    "_ = plt.show()"
   ],
   "outputs": [
    {
     "output_type": "display_data",
     "data": {
      "text/plain": [
       "<Figure size 432x288 with 1 Axes>"
      ],
      "image/png": "[encoded data removed]"
     },
     "metadata": {
      "needs_background": "light"
     }
    }
   ],
   "metadata": {}
  },
  {
   "cell_type": "markdown",
   "source": [
    "## Exploring heterogeneity in federated data"
   ],
   "metadata": {}
  },
  {
   "cell_type": "code",
   "execution_count": 9,
   "source": [
    "## Example MNIST digits for one client\r\n",
    "figure = plt.figure(figsize=(20, 4))\r\n",
    "j = 0\r\n",
    "\r\n",
    "for example in example_dataset.take(40):\r\n",
    "  plt.subplot(4, 10, j+1)\r\n",
    "  plt.imshow(example['pixels'].numpy(), cmap='gray', aspect='equal')\r\n",
    "  plt.axis('off')\r\n",
    "  j += 1"
   ],
   "outputs": [
    {
     "output_type": "display_data",
     "data": {
      "text/plain": [
       "<Figure size 1440x288 with 40 Axes>"
      ],
      "image/png": "[encoded data removed]"
     },
     "metadata": {
      "needs_background": "light"
     }
    }
   ],
   "metadata": {}
  },
  {
   "cell_type": "code",
   "execution_count": 10,
   "source": [
    "# Number of examples per layer for a sample of clients\r\n",
    "f = plt.figure(figsize=(12, 7))\r\n",
    "f.suptitle('Label Counts for a Sample of Clients')\r\n",
    "for i in range(6):\r\n",
    "  client_dataset = emnist_train.create_tf_dataset_for_client(\r\n",
    "      emnist_train.client_ids[i])\r\n",
    "  plot_data = collections.defaultdict(list)\r\n",
    "  for example in client_dataset:\r\n",
    "    # Append counts individually per label to make plots\r\n",
    "    # more colorful instead of one color per plot.\r\n",
    "    label = example['label'].numpy()\r\n",
    "    plot_data[label].append(label)\r\n",
    "  plt.subplot(2, 3, i+1)\r\n",
    "  plt.title('Client {}'.format(i))\r\n",
    "  for j in range(10):\r\n",
    "    plt.hist(\r\n",
    "        plot_data[j],\r\n",
    "        density=False,\r\n",
    "        bins=[0, 1, 2, 3, 4, 5, 6, 7, 8, 9, 10])"
   ],
   "outputs": [
    {
     "output_type": "display_data",
     "data": {
      "text/plain": [
       "<Figure size 864x504 with 6 Axes>"
      ],
      "image/png": "[encoded data removed]"
     },
     "metadata": {
      "needs_background": "light"
     }
    }
   ],
   "metadata": {}
  },
  {
   "cell_type": "code",
   "execution_count": 11,
   "source": [
    "# Each client has different mean images, meaning each client will be nudging\r\n",
    "# the model in their own directions locally.\r\n",
    "\r\n",
    "for i in range(5):\r\n",
    "  client_dataset = emnist_train.create_tf_dataset_for_client(\r\n",
    "      emnist_train.client_ids[i])\r\n",
    "  plot_data = collections.defaultdict(list)\r\n",
    "  for example in client_dataset:\r\n",
    "    plot_data[example['label'].numpy()].append(example['pixels'].numpy())\r\n",
    "  f = plt.figure(i, figsize=(12, 5))\r\n",
    "  f.suptitle(\"Client #{}'s Mean Image Per Label\".format(i))\r\n",
    "  for j in range(10):\r\n",
    "    mean_img = np.mean(plot_data[j], 0)\r\n",
    "    plt.subplot(2, 5, j+1)\r\n",
    "    plt.imshow(mean_img.reshape((28, 28)))\r\n",
    "    plt.axis('off')"
   ],
   "outputs": [
    {
     "output_type": "display_data",
     "data": {
      "text/plain": [
       "<Figure size 864x360 with 10 Axes>"
      ],
      "image/png": "[encoded data removed]"
     },
     "metadata": {
      "needs_background": "light"
     }
    },
    {
     "output_type": "display_data",
     "data": {
      "text/plain": [
       "<Figure size 864x360 with 10 Axes>"
      ],
      "image/png": "[encoded data removed]"
     },
     "metadata": {
      "needs_background": "light"
     }
    },
    {
     "output_type": "display_data",
     "data": {
      "text/plain": [
       "<Figure size 864x360 with 10 Axes>"
      ],
      "image/png": "[encoded data removed]"
     },
     "metadata": {
      "needs_background": "light"
     }
    },
    {
     "output_type": "display_data",
     "data": {
      "text/plain": [
       "<Figure size 864x360 with 10 Axes>"
      ],
      "image/png": "[encoded data removed]"
     },
     "metadata": {
      "needs_background": "light"
     }
    },
    {
     "output_type": "display_data",
     "data": {
      "text/plain": [
       "<Figure size 864x360 with 10 Axes>"
      ],
      "image/png": "[encoded data removed]"
     },
     "metadata": {
      "needs_background": "light"
     }
    }
   ],
   "metadata": {}
  },
  {
   "cell_type": "markdown",
   "source": [
    "## Preprocessing the input data"
   ],
   "metadata": {}
  },
  {
   "cell_type": "code",
   "execution_count": 12,
   "source": [
    "NUM_CLIENTS = 10\r\n",
    "NUM_EPOCHS = 5\r\n",
    "BATCH_SIZE = 20\r\n",
    "SHUFFLE_BUFFER = 100\r\n",
    "PREFETCH_BUFFER = 10\r\n",
    "\r\n",
    "def preprocess(dataset):\r\n",
    "\r\n",
    "  def batch_format_fn(element):\r\n",
    "    \"\"\"Flatten a batch `pixels` and return the features as an `OrderedDict`.\"\"\"\r\n",
    "    return collections.OrderedDict(\r\n",
    "        x=tf.reshape(element['pixels'], [-1, 784]),\r\n",
    "        y=tf.reshape(element['label'], [-1, 1]))\r\n",
    "\r\n",
    "  return dataset.repeat(NUM_EPOCHS).shuffle(SHUFFLE_BUFFER).batch(\r\n",
    "      BATCH_SIZE).map(batch_format_fn).prefetch(PREFETCH_BUFFER)"
   ],
   "outputs": [],
   "metadata": {}
  },
  {
   "cell_type": "code",
   "execution_count": 13,
   "source": [
    "preprocessed_example_dataset = preprocess(example_dataset)\r\n",
    "\r\n",
    "sample_batch = tf.nest.map_structure(lambda x: x.numpy(),\r\n",
    "                                     next(iter(preprocessed_example_dataset)))\r\n",
    "\r\n",
    "sample_batch"
   ],
   "outputs": [
    {
     "output_type": "execute_result",
     "data": {
      "text/plain": [
       "OrderedDict([('x',\n",
       "              array([[1., 1., 1., ..., 1., 1., 1.],\n",
       "                     [1., 1., 1., ..., 1., 1., 1.],\n",
       "                     [1., 1., 1., ..., 1., 1., 1.],\n",
       "                     ...,\n",
       "                     [1., 1., 1., ..., 1., 1., 1.],\n",
       "                     [1., 1., 1., ..., 1., 1., 1.],\n",
       "                     [1., 1., 1., ..., 1., 1., 1.]], dtype=float32)),\n",
       "             ('y',\n",
       "              array([[8],\n",
       "                     [6],\n",
       "                     [1],\n",
       "                     [0],\n",
       "                     [6],\n",
       "                     [4],\n",
       "                     [7],\n",
       "                     [2],\n",
       "                     [6],\n",
       "                     [3],\n",
       "                     [9],\n",
       "                     [4],\n",
       "                     [7],\n",
       "                     [2],\n",
       "                     [0],\n",
       "                     [2],\n",
       "                     [1],\n",
       "                     [9],\n",
       "                     [7],\n",
       "                     [7]]))])"
      ]
     },
     "metadata": {},
     "execution_count": 13
    }
   ],
   "metadata": {}
  },
  {
   "cell_type": "code",
   "execution_count": 14,
   "source": [
    "def make_federated_data(client_data, client_ids):\r\n",
    "  return [\r\n",
    "      preprocess(client_data.create_tf_dataset_for_client(x))\r\n",
    "      for x in client_ids\r\n",
    "  ]"
   ],
   "outputs": [],
   "metadata": {}
  },
  {
   "cell_type": "code",
   "execution_count": 15,
   "source": [
    "sample_clients = emnist_train.client_ids[0:NUM_CLIENTS]\r\n",
    "\r\n",
    "federated_train_data = make_federated_data(emnist_train, sample_clients)\r\n",
    "\r\n",
    "print('Number of client datasets: {l}'.format(l=len(federated_train_data)))\r\n",
    "print('First dataset: {d}'.format(d=federated_train_data[0]))"
   ],
   "outputs": [
    {
     "output_type": "stream",
     "name": "stdout",
     "text": [
      "Number of client datasets: 10\n",
      "First dataset: <PrefetchDataset shapes: OrderedDict([(x, (None, 784)), (y, (None, 1))]), types: OrderedDict([(x, tf.float32), (y, tf.int32)])>\n"
     ]
    }
   ],
   "metadata": {}
  },
  {
   "cell_type": "markdown",
   "source": [
    "## Creating a model with Keras"
   ],
   "metadata": {}
  },
  {
   "cell_type": "code",
   "execution_count": 16,
   "source": [
    "def create_keras_model():\r\n",
    "  return tf.keras.models.Sequential([\r\n",
    "      tf.keras.layers.InputLayer(input_shape=(784,)),\r\n",
    "      tf.keras.layers.Dense(10, kernel_initializer='zeros'),\r\n",
    "      tf.keras.layers.Softmax(),\r\n",
    "  ])"
   ],
   "outputs": [],
   "metadata": {}
  },
  {
   "cell_type": "code",
   "execution_count": 17,
   "source": [
    "def model_fn():\r\n",
    "  # We _must_ create a new model here, and _not_ capture it from an external\r\n",
    "  # scope. TFF will call this within different graph contexts.\r\n",
    "  keras_model = create_keras_model()\r\n",
    "  return tff.learning.from_keras_model(\r\n",
    "      keras_model,\r\n",
    "      input_spec=preprocessed_example_dataset.element_spec,\r\n",
    "      loss=tf.keras.losses.SparseCategoricalCrossentropy(),\r\n",
    "      metrics=[tf.keras.metrics.SparseCategoricalAccuracy()])"
   ],
   "outputs": [],
   "metadata": {}
  },
  {
   "cell_type": "markdown",
   "source": [
    "## Training the model on federated data"
   ],
   "metadata": {}
  },
  {
   "cell_type": "code",
   "execution_count": 18,
   "source": [
    "iterative_process = tff.learning.build_federated_averaging_process(\r\n",
    "    model_fn,\r\n",
    "    client_optimizer_fn=lambda: tf.keras.optimizers.SGD(learning_rate=0.02),\r\n",
    "    server_optimizer_fn=lambda: tf.keras.optimizers.SGD(learning_rate=1.0))"
   ],
   "outputs": [
    {
     "output_type": "stream",
     "name": "stdout",
     "text": [
      "WARNING:tensorflow:From C:\\Users\\bram_\\anaconda3\\lib\\site-packages\\tensorflow\\python\\ops\\resource_variable_ops.py:1659: calling BaseResourceVariable.__init__ (from tensorflow.python.ops.resource_variable_ops) with constraint is deprecated and will be removed in a future version.\n",
      "Instructions for updating:\n",
      "If using Keras pass *_constraint arguments to layers.\n"
     ]
    },
    {
     "output_type": "stream",
     "name": "stderr",
     "text": [
      "WARNING:tensorflow:From C:\\Users\\bram_\\anaconda3\\lib\\site-packages\\tensorflow\\python\\ops\\resource_variable_ops.py:1659: calling BaseResourceVariable.__init__ (from tensorflow.python.ops.resource_variable_ops) with constraint is deprecated and will be removed in a future version.\n",
      "Instructions for updating:\n",
      "If using Keras pass *_constraint arguments to layers.\n"
     ]
    }
   ],
   "metadata": {}
  },
  {
   "cell_type": "code",
   "execution_count": 19,
   "source": [
    "str(iterative_process.initialize.type_signature)"
   ],
   "outputs": [
    {
     "output_type": "execute_result",
     "data": {
      "text/plain": [
       "'( -> <model=<trainable=<float32[784,10],float32[10]>,non_trainable=<>>,optimizer_state=<int64>,delta_aggregate_state=<value_sum_process=<>,weight_sum_process=<>>,model_broadcast_state=<>>@SERVER)'"
      ]
     },
     "metadata": {},
     "execution_count": 19
    }
   ],
   "metadata": {}
  },
  {
   "cell_type": "code",
   "execution_count": 20,
   "source": [
    "state = iterative_process.initialize()"
   ],
   "outputs": [],
   "metadata": {}
  },
  {
   "cell_type": "code",
   "execution_count": 21,
   "source": [
    "state, metrics = iterative_process.next(state, federated_train_data)\r\n",
    "print('round  1, metrics={}'.format(metrics))"
   ],
   "outputs": [
    {
     "output_type": "stream",
     "name": "stdout",
     "text": [
      "round  1, metrics=OrderedDict([('broadcast', ()), ('aggregation', OrderedDict([('value_sum_process', ()), ('weight_sum_process', ())])), ('train', OrderedDict([('sparse_categorical_accuracy', 0.1127572), ('loss', 3.0784914)]))])\n"
     ]
    }
   ],
   "metadata": {}
  },
  {
   "cell_type": "code",
   "execution_count": 22,
   "source": [
    "NUM_ROUNDS = 11\r\n",
    "for round_num in range(2, NUM_ROUNDS):\r\n",
    "  state, metrics = iterative_process.next(state, federated_train_data)\r\n",
    "  print('round {:2d}, metrics={}'.format(round_num, metrics))"
   ],
   "outputs": [
    {
     "output_type": "stream",
     "name": "stdout",
     "text": [
      "round  2, metrics=OrderedDict([('broadcast', ()), ('aggregation', OrderedDict([('value_sum_process', ()), ('weight_sum_process', ())])), ('train', OrderedDict([('sparse_categorical_accuracy', 0.12942387), ('loss', 2.9507399)]))])\n",
      "round  3, metrics=OrderedDict([('broadcast', ()), ('aggregation', OrderedDict([('value_sum_process', ()), ('weight_sum_process', ())])), ('train', OrderedDict([('sparse_categorical_accuracy', 0.15144032), ('loss', 2.8595498)]))])\n",
      "round  4, metrics=OrderedDict([('broadcast', ()), ('aggregation', OrderedDict([('value_sum_process', ()), ('weight_sum_process', ())])), ('train', OrderedDict([('sparse_categorical_accuracy', 0.18909465), ('loss', 2.6488383)]))])\n",
      "round  5, metrics=OrderedDict([('broadcast', ()), ('aggregation', OrderedDict([('value_sum_process', ()), ('weight_sum_process', ())])), ('train', OrderedDict([('sparse_categorical_accuracy', 0.18518518), ('loss', 2.7564402)]))])\n",
      "round  6, metrics=OrderedDict([('broadcast', ()), ('aggregation', OrderedDict([('value_sum_process', ()), ('weight_sum_process', ())])), ('train', OrderedDict([('sparse_categorical_accuracy', 0.21131687), ('loss', 2.5381606)]))])\n",
      "round  7, metrics=OrderedDict([('broadcast', ()), ('aggregation', OrderedDict([('value_sum_process', ()), ('weight_sum_process', ())])), ('train', OrderedDict([('sparse_categorical_accuracy', 0.24259259), ('loss', 2.3150244)]))])\n",
      "round  8, metrics=OrderedDict([('broadcast', ()), ('aggregation', OrderedDict([('value_sum_process', ()), ('weight_sum_process', ())])), ('train', OrderedDict([('sparse_categorical_accuracy', 0.27736625), ('loss', 2.21893)]))])\n",
      "round  9, metrics=OrderedDict([('broadcast', ()), ('aggregation', OrderedDict([('value_sum_process', ()), ('weight_sum_process', ())])), ('train', OrderedDict([('sparse_categorical_accuracy', 0.31234568), ('loss', 2.1284647)]))])\n",
      "round 10, metrics=OrderedDict([('broadcast', ()), ('aggregation', OrderedDict([('value_sum_process', ()), ('weight_sum_process', ())])), ('train', OrderedDict([('sparse_categorical_accuracy', 0.3308642), ('loss', 2.0520787)]))])\n"
     ]
    }
   ],
   "metadata": {}
  },
  {
   "cell_type": "markdown",
   "source": [
    "## Displaying model metrics in TensorBoard"
   ],
   "metadata": {}
  },
  {
   "cell_type": "code",
   "execution_count": 23,
   "source": [
    "logdir = \"logs/scalars/training/\"\r\n",
    "summary_writer = tf.summary.create_file_writer(logdir)\r\n",
    "state = iterative_process.initialize()"
   ],
   "outputs": [],
   "metadata": {}
  },
  {
   "cell_type": "code",
   "execution_count": 24,
   "source": [
    "with summary_writer.as_default():\r\n",
    "  for round_num in range(1, NUM_ROUNDS):\r\n",
    "    state, metrics = iterative_process.next(state, federated_train_data)\r\n",
    "    for name, value in metrics['train'].items():\r\n",
    "      tf.summary.scalar(name, value, step=round_num)"
   ],
   "outputs": [],
   "metadata": {}
  }
 ],
 "metadata": {
  "interpreter": {
   "hash": "47dc783c64eba16578308ded2496eecd3f77c9cbf1d7b090711421ceeb34a226"
  },
  "kernelspec": {
   "name": "python3",
   "display_name": "Python 3.8.10 64-bit ('base': conda)"
  },
  "language_info": {
   "codemirror_mode": {
    "name": "ipython",
    "version": 3
   },
   "file_extension": ".py",
   "mimetype": "text/x-python",
   "name": "python",
   "nbconvert_exporter": "python",
   "pygments_lexer": "ipython3",
   "version": "3.8.10"
  },
  "orig_nbformat": 2
 },
 "nbformat": 4,
 "nbformat_minor": 2
}